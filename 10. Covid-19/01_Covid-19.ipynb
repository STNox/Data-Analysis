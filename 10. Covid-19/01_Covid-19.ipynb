{
 "metadata": {
  "language_info": {
   "codemirror_mode": {
    "name": "ipython",
    "version": 3
   },
   "file_extension": ".py",
   "mimetype": "text/x-python",
   "name": "python",
   "nbconvert_exporter": "python",
   "pygments_lexer": "ipython3",
   "version": "3.8.3-final"
  },
  "orig_nbformat": 2,
  "kernelspec": {
   "name": "python3",
   "display_name": "Python 3"
  }
 },
 "nbformat": 4,
 "nbformat_minor": 2,
 "cells": [
  {
   "source": [
    "# Covid-19 현황 분석"
   ],
   "cell_type": "markdown",
   "metadata": {}
  },
  {
   "cell_type": "code",
   "execution_count": 1,
   "metadata": {},
   "outputs": [],
   "source": [
    "import requests\n",
    "import pandas as pd\n",
    "from bs4 import BeautifulSoup"
   ]
  },
  {
   "cell_type": "code",
   "execution_count": 2,
   "metadata": {},
   "outputs": [],
   "source": [
    "key_fd = open('gov_data_api_key.txt', mode='r')\n",
    "govapi_key = key_fd.read(100)\n",
    "key_fd.close()"
   ]
  },
  {
   "cell_type": "code",
   "execution_count": 3,
   "metadata": {},
   "outputs": [],
   "source": [
    "start_date = '20200901'\n",
    "end_date = '20201130'"
   ]
  },
  {
   "cell_type": "code",
   "execution_count": 4,
   "metadata": {},
   "outputs": [],
   "source": [
    "base_url = 'http://openapi.data.go.kr/openapi/service/rest/Covid19/getCovid19SidoInfStateJson'\n",
    "url = f'{base_url}?ServiceKey={govapi_key}&pageNo=1&numOfRows=10&startCreateDt={start_date}&endCreateDt={end_date}'"
   ]
  },
  {
   "cell_type": "code",
   "execution_count": 5,
   "metadata": {},
   "outputs": [
    {
     "output_type": "execute_result",
     "data": {
      "text/plain": [
       "'00'"
      ]
     },
     "metadata": {},
     "execution_count": 5
    }
   ],
   "source": [
    "result = requests.get(url)\n",
    "soup = BeautifulSoup(result.text, 'xml')\n",
    "soup.find('resultCode').get_text()"
   ]
  },
  {
   "cell_type": "code",
   "execution_count": 6,
   "metadata": {},
   "outputs": [
    {
     "output_type": "execute_result",
     "data": {
      "text/plain": [
       "'1883'"
      ]
     },
     "metadata": {},
     "execution_count": 6
    }
   ],
   "source": [
    "soup.find('totalCount').string"
   ]
  },
  {
   "cell_type": "code",
   "execution_count": 7,
   "metadata": {},
   "outputs": [],
   "source": [
    "items = soup.find_all('item')\n",
    "regions, qur_rates, std_days, death_cnts, inc_decs, isol_clr_cnts, def_cnts, local_occ_cnts = [], [], [], [], [], [], [], []\n",
    "for item in items:\n",
    "    death_cnt = item.find('deathCnt').string\n",
    "    def_cnt = item.find('defCnt').string\n",
    "    region = item.find('gubun').string\n",
    "    inc_dec = item.find('incDec').string\n",
    "    isol_clr_cnt = item.find('isolClearCnt').string\n",
    "    local_occ_cnt = item.find('localOccCnt').string \n",
    "    qur_rate = item.find('qurRate').string\n",
    "    std_day = item.find('stdDay').string\n",
    "    regions.append(region); qur_rates.append(qur_rate); std_days.append(std_day); death_cnts.append(death_cnt) \n",
    "    inc_decs.append(inc_dec); isol_clr_cnts.append(isol_clr_cnt); def_cnts.append(def_cnt); local_occ_cnts.append(local_occ_cnt)"
   ]
  },
  {
   "cell_type": "code",
   "execution_count": 8,
   "metadata": {},
   "outputs": [
    {
     "output_type": "execute_result",
     "data": {
      "text/plain": [
       "   지역                 일시   누적확진 국내발생 전일대비 증감 10만명당 발생률  사망  격리해제\n",
       "0  검역  2020년 11월 30일 00시  21301    0      10         -   0  1618\n",
       "1  검역  2020년 11월 30일 00시   2130    0      10         -   0  1618\n",
       "2  제주  2020년 11월 30일 00시     80    0       1     11.93   0    60\n",
       "3  경남  2020년 11월 30일 00시    625   19      20     18.59   1   388\n",
       "4  경북  2020년 11월 30일 00시   1704    4       4     64.00  57  1560\n",
       "5  전남  2020년 11월 30일 00시    424    3       4     22.74   2   214\n",
       "6  전북  2020년 11월 30일 00시    334   16      16     18.38   2   173\n",
       "7  충남  2020년 11월 30일 00시    899    4       5     42.36   9   667\n",
       "8  충북  2020년 11월 30일 00시    327   22      22     20.45   3   207\n",
       "9  강원  2020년 11월 30일 00시    652    8       8     42.32   6   400"
      ],
      "text/html": "<div>\n<style scoped>\n    .dataframe tbody tr th:only-of-type {\n        vertical-align: middle;\n    }\n\n    .dataframe tbody tr th {\n        vertical-align: top;\n    }\n\n    .dataframe thead th {\n        text-align: right;\n    }\n</style>\n<table border=\"1\" class=\"dataframe\">\n  <thead>\n    <tr style=\"text-align: right;\">\n      <th></th>\n      <th>지역</th>\n      <th>일시</th>\n      <th>누적확진</th>\n      <th>국내발생</th>\n      <th>전일대비 증감</th>\n      <th>10만명당 발생률</th>\n      <th>사망</th>\n      <th>격리해제</th>\n    </tr>\n  </thead>\n  <tbody>\n    <tr>\n      <th>0</th>\n      <td>검역</td>\n      <td>2020년 11월 30일 00시</td>\n      <td>21301</td>\n      <td>0</td>\n      <td>10</td>\n      <td>-</td>\n      <td>0</td>\n      <td>1618</td>\n    </tr>\n    <tr>\n      <th>1</th>\n      <td>검역</td>\n      <td>2020년 11월 30일 00시</td>\n      <td>2130</td>\n      <td>0</td>\n      <td>10</td>\n      <td>-</td>\n      <td>0</td>\n      <td>1618</td>\n    </tr>\n    <tr>\n      <th>2</th>\n      <td>제주</td>\n      <td>2020년 11월 30일 00시</td>\n      <td>80</td>\n      <td>0</td>\n      <td>1</td>\n      <td>11.93</td>\n      <td>0</td>\n      <td>60</td>\n    </tr>\n    <tr>\n      <th>3</th>\n      <td>경남</td>\n      <td>2020년 11월 30일 00시</td>\n      <td>625</td>\n      <td>19</td>\n      <td>20</td>\n      <td>18.59</td>\n      <td>1</td>\n      <td>388</td>\n    </tr>\n    <tr>\n      <th>4</th>\n      <td>경북</td>\n      <td>2020년 11월 30일 00시</td>\n      <td>1704</td>\n      <td>4</td>\n      <td>4</td>\n      <td>64.00</td>\n      <td>57</td>\n      <td>1560</td>\n    </tr>\n    <tr>\n      <th>5</th>\n      <td>전남</td>\n      <td>2020년 11월 30일 00시</td>\n      <td>424</td>\n      <td>3</td>\n      <td>4</td>\n      <td>22.74</td>\n      <td>2</td>\n      <td>214</td>\n    </tr>\n    <tr>\n      <th>6</th>\n      <td>전북</td>\n      <td>2020년 11월 30일 00시</td>\n      <td>334</td>\n      <td>16</td>\n      <td>16</td>\n      <td>18.38</td>\n      <td>2</td>\n      <td>173</td>\n    </tr>\n    <tr>\n      <th>7</th>\n      <td>충남</td>\n      <td>2020년 11월 30일 00시</td>\n      <td>899</td>\n      <td>4</td>\n      <td>5</td>\n      <td>42.36</td>\n      <td>9</td>\n      <td>667</td>\n    </tr>\n    <tr>\n      <th>8</th>\n      <td>충북</td>\n      <td>2020년 11월 30일 00시</td>\n      <td>327</td>\n      <td>22</td>\n      <td>22</td>\n      <td>20.45</td>\n      <td>3</td>\n      <td>207</td>\n    </tr>\n    <tr>\n      <th>9</th>\n      <td>강원</td>\n      <td>2020년 11월 30일 00시</td>\n      <td>652</td>\n      <td>8</td>\n      <td>8</td>\n      <td>42.32</td>\n      <td>6</td>\n      <td>400</td>\n    </tr>\n  </tbody>\n</table>\n</div>"
     },
     "metadata": {},
     "execution_count": 8
    }
   ],
   "source": [
    "covid_status = pd.DataFrame({\n",
    "    '지역': regions,\n",
    "    '일시': std_days,\n",
    "    '누적확진': def_cnts,\n",
    "    '국내발생': local_occ_cnts,\n",
    "    '전일대비 증감': inc_decs,\n",
    "    '10만명당 발생률': qur_rates,\n",
    "    '사망': death_cnts,\n",
    "    '격리해제': isol_clr_cnts\n",
    "})\n",
    "covid_status.head(10)"
   ]
  },
  {
   "cell_type": "code",
   "execution_count": 9,
   "metadata": {},
   "outputs": [
    {
     "output_type": "error",
     "ename": "ValueError",
     "evalue": "Unable to parse string \"-\" at position 0",
     "traceback": [
      "\u001b[1;31m---------------------------------------------------------------------------\u001b[0m",
      "\u001b[1;31mValueError\u001b[0m                                Traceback (most recent call last)",
      "\u001b[1;32mpandas\\_libs\\lib.pyx\u001b[0m in \u001b[0;36mpandas._libs.lib.maybe_convert_numeric\u001b[1;34m()\u001b[0m\n",
      "\u001b[1;31mValueError\u001b[0m: Unable to parse string \"-\"",
      "\nDuring handling of the above exception, another exception occurred:\n",
      "\u001b[1;31mValueError\u001b[0m                                Traceback (most recent call last)",
      "\u001b[1;32m<ipython-input-9-31ee022beb91>\u001b[0m in \u001b[0;36m<module>\u001b[1;34m\u001b[0m\n\u001b[0;32m      2\u001b[0m \u001b[0mcovid_status\u001b[0m\u001b[1;33m[\u001b[0m\u001b[1;34m'국내발생'\u001b[0m\u001b[1;33m]\u001b[0m \u001b[1;33m=\u001b[0m \u001b[0mpd\u001b[0m\u001b[1;33m.\u001b[0m\u001b[0mto_numeric\u001b[0m\u001b[1;33m(\u001b[0m\u001b[0mcovid_status\u001b[0m\u001b[1;33m[\u001b[0m\u001b[1;34m'국내발생'\u001b[0m\u001b[1;33m]\u001b[0m\u001b[1;33m)\u001b[0m\u001b[1;33m\u001b[0m\u001b[1;33m\u001b[0m\u001b[0m\n\u001b[0;32m      3\u001b[0m \u001b[0mcovid_status\u001b[0m\u001b[1;33m[\u001b[0m\u001b[1;34m'전일대비 증감'\u001b[0m\u001b[1;33m]\u001b[0m \u001b[1;33m=\u001b[0m \u001b[0mpd\u001b[0m\u001b[1;33m.\u001b[0m\u001b[0mto_numeric\u001b[0m\u001b[1;33m(\u001b[0m\u001b[0mcovid_status\u001b[0m\u001b[1;33m[\u001b[0m\u001b[1;34m'전일대비 증감'\u001b[0m\u001b[1;33m]\u001b[0m\u001b[1;33m)\u001b[0m\u001b[1;33m\u001b[0m\u001b[1;33m\u001b[0m\u001b[0m\n\u001b[1;32m----> 4\u001b[1;33m \u001b[0mcovid_status\u001b[0m\u001b[1;33m[\u001b[0m\u001b[1;34m'10만명당 발생률'\u001b[0m\u001b[1;33m]\u001b[0m \u001b[1;33m=\u001b[0m \u001b[0mpd\u001b[0m\u001b[1;33m.\u001b[0m\u001b[0mto_numeric\u001b[0m\u001b[1;33m(\u001b[0m\u001b[0mcovid_status\u001b[0m\u001b[1;33m[\u001b[0m\u001b[1;34m'10만명당 발생률'\u001b[0m\u001b[1;33m]\u001b[0m\u001b[1;33m)\u001b[0m\u001b[1;33m\u001b[0m\u001b[1;33m\u001b[0m\u001b[0m\n\u001b[0m\u001b[0;32m      5\u001b[0m \u001b[0mcovid_status\u001b[0m\u001b[1;33m[\u001b[0m\u001b[1;34m'사망'\u001b[0m\u001b[1;33m]\u001b[0m \u001b[1;33m=\u001b[0m \u001b[0mpd\u001b[0m\u001b[1;33m.\u001b[0m\u001b[0mto_numeric\u001b[0m\u001b[1;33m(\u001b[0m\u001b[0mcovid_status\u001b[0m\u001b[1;33m[\u001b[0m\u001b[1;34m'사망'\u001b[0m\u001b[1;33m]\u001b[0m\u001b[1;33m)\u001b[0m\u001b[1;33m\u001b[0m\u001b[1;33m\u001b[0m\u001b[0m\n\u001b[0;32m      6\u001b[0m \u001b[0mcovid_status\u001b[0m\u001b[1;33m[\u001b[0m\u001b[1;34m'격리해제'\u001b[0m\u001b[1;33m]\u001b[0m \u001b[1;33m=\u001b[0m \u001b[0mpd\u001b[0m\u001b[1;33m.\u001b[0m\u001b[0mto_numeric\u001b[0m\u001b[1;33m(\u001b[0m\u001b[0mcovid_status\u001b[0m\u001b[1;33m[\u001b[0m\u001b[1;34m'격리해제'\u001b[0m\u001b[1;33m]\u001b[0m\u001b[1;33m)\u001b[0m\u001b[1;33m\u001b[0m\u001b[1;33m\u001b[0m\u001b[0m\n",
      "\u001b[1;32m~\\anaconda3\\lib\\site-packages\\pandas\\core\\tools\\numeric.py\u001b[0m in \u001b[0;36mto_numeric\u001b[1;34m(arg, errors, downcast)\u001b[0m\n\u001b[0;32m    147\u001b[0m         \u001b[0mcoerce_numeric\u001b[0m \u001b[1;33m=\u001b[0m \u001b[0merrors\u001b[0m \u001b[1;32mnot\u001b[0m \u001b[1;32min\u001b[0m \u001b[1;33m(\u001b[0m\u001b[1;34m\"ignore\"\u001b[0m\u001b[1;33m,\u001b[0m \u001b[1;34m\"raise\"\u001b[0m\u001b[1;33m)\u001b[0m\u001b[1;33m\u001b[0m\u001b[1;33m\u001b[0m\u001b[0m\n\u001b[0;32m    148\u001b[0m         \u001b[1;32mtry\u001b[0m\u001b[1;33m:\u001b[0m\u001b[1;33m\u001b[0m\u001b[1;33m\u001b[0m\u001b[0m\n\u001b[1;32m--> 149\u001b[1;33m             values = lib.maybe_convert_numeric(\n\u001b[0m\u001b[0;32m    150\u001b[0m                 \u001b[0mvalues\u001b[0m\u001b[1;33m,\u001b[0m \u001b[0mset\u001b[0m\u001b[1;33m(\u001b[0m\u001b[1;33m)\u001b[0m\u001b[1;33m,\u001b[0m \u001b[0mcoerce_numeric\u001b[0m\u001b[1;33m=\u001b[0m\u001b[0mcoerce_numeric\u001b[0m\u001b[1;33m\u001b[0m\u001b[1;33m\u001b[0m\u001b[0m\n\u001b[0;32m    151\u001b[0m             )\n",
      "\u001b[1;32mpandas\\_libs\\lib.pyx\u001b[0m in \u001b[0;36mpandas._libs.lib.maybe_convert_numeric\u001b[1;34m()\u001b[0m\n",
      "\u001b[1;31mValueError\u001b[0m: Unable to parse string \"-\" at position 0"
     ]
    }
   ],
   "source": [
    "# 검역 삭제\n",
    "covid_status['누적확진'] = pd.to_numeric(covid_status['누적확진'])\n",
    "covid_status['국내발생'] = pd.to_numeric(covid_status['국내발생'])\n",
    "covid_status['전일대비 증감'] = pd.to_numeric(covid_status['전일대비 증감'])\n",
    "covid_status['10만명당 발생률'] = pd.to_numeric(covid_status['10만명당 발생률'])\n",
    "covid_status['사망'] = pd.to_numeric(covid_status['사망'])\n",
    "covid_status['격리해제'] = pd.to_numeric(covid_status['격리해제'])"
   ]
  },
  {
   "cell_type": "code",
   "execution_count": 10,
   "metadata": {},
   "outputs": [
    {
     "output_type": "execute_result",
     "data": {
      "text/plain": [
       "                       국내발생     누적확진  전일대비 증감\n",
       "일시                지역                         \n",
       "2020년 09월 01일 00시 강원    4.0    193.0      4.0\n",
       "                  검역    0.0   1358.0      4.0\n",
       "                  경기   60.0   3323.0     63.0\n",
       "                  경남    3.0    239.0      3.0\n",
       "                  경북    5.0   1464.0      9.0\n",
       "...                     ...      ...      ...\n",
       "2020년 11월 30일 00시 전북   16.0    334.0     16.0\n",
       "                  제주    0.0     80.0      1.0\n",
       "                  충남    4.0    899.0      5.0\n",
       "                  충북   22.0    327.0     22.0\n",
       "                  합계  414.0  43786.5    438.0\n",
       "\n",
       "[1729 rows x 3 columns]"
      ],
      "text/html": "<div>\n<style scoped>\n    .dataframe tbody tr th:only-of-type {\n        vertical-align: middle;\n    }\n\n    .dataframe tbody tr th {\n        vertical-align: top;\n    }\n\n    .dataframe thead th {\n        text-align: right;\n    }\n</style>\n<table border=\"1\" class=\"dataframe\">\n  <thead>\n    <tr style=\"text-align: right;\">\n      <th></th>\n      <th></th>\n      <th>국내발생</th>\n      <th>누적확진</th>\n      <th>전일대비 증감</th>\n    </tr>\n    <tr>\n      <th>일시</th>\n      <th>지역</th>\n      <th></th>\n      <th></th>\n      <th></th>\n    </tr>\n  </thead>\n  <tbody>\n    <tr>\n      <th rowspan=\"5\" valign=\"top\">2020년 09월 01일 00시</th>\n      <th>강원</th>\n      <td>4.0</td>\n      <td>193.0</td>\n      <td>4.0</td>\n    </tr>\n    <tr>\n      <th>검역</th>\n      <td>0.0</td>\n      <td>1358.0</td>\n      <td>4.0</td>\n    </tr>\n    <tr>\n      <th>경기</th>\n      <td>60.0</td>\n      <td>3323.0</td>\n      <td>63.0</td>\n    </tr>\n    <tr>\n      <th>경남</th>\n      <td>3.0</td>\n      <td>239.0</td>\n      <td>3.0</td>\n    </tr>\n    <tr>\n      <th>경북</th>\n      <td>5.0</td>\n      <td>1464.0</td>\n      <td>9.0</td>\n    </tr>\n    <tr>\n      <th>...</th>\n      <th>...</th>\n      <td>...</td>\n      <td>...</td>\n      <td>...</td>\n    </tr>\n    <tr>\n      <th rowspan=\"5\" valign=\"top\">2020년 11월 30일 00시</th>\n      <th>전북</th>\n      <td>16.0</td>\n      <td>334.0</td>\n      <td>16.0</td>\n    </tr>\n    <tr>\n      <th>제주</th>\n      <td>0.0</td>\n      <td>80.0</td>\n      <td>1.0</td>\n    </tr>\n    <tr>\n      <th>충남</th>\n      <td>4.0</td>\n      <td>899.0</td>\n      <td>5.0</td>\n    </tr>\n    <tr>\n      <th>충북</th>\n      <td>22.0</td>\n      <td>327.0</td>\n      <td>22.0</td>\n    </tr>\n    <tr>\n      <th>합계</th>\n      <td>414.0</td>\n      <td>43786.5</td>\n      <td>438.0</td>\n    </tr>\n  </tbody>\n</table>\n<p>1729 rows × 3 columns</p>\n</div>"
     },
     "metadata": {},
     "execution_count": 10
    }
   ],
   "source": [
    "pd.pivot_table(covid_status, index=['일시', '지역'])"
   ]
  },
  {
   "cell_type": "code",
   "execution_count": null,
   "metadata": {},
   "outputs": [],
   "source": []
  }
 ]
}