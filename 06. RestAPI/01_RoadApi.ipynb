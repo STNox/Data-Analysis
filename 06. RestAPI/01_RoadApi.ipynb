{
 "metadata": {
  "language_info": {
   "codemirror_mode": {
    "name": "ipython",
    "version": 3
   },
   "file_extension": ".py",
   "mimetype": "text/x-python",
   "name": "python",
   "nbconvert_exporter": "python",
   "pygments_lexer": "ipython3",
   "version": "3.8.3-final"
  },
  "orig_nbformat": 2,
  "kernelspec": {
   "name": "python3",
   "display_name": "Python 3"
  }
 },
 "nbformat": 4,
 "nbformat_minor": 2,
 "cells": [
  {
   "source": [
    "# 행정안전부 도로명주소 API\n",
    "### 건물명으로부터 도로명주소"
   ],
   "cell_type": "markdown",
   "metadata": {}
  },
  {
   "cell_type": "code",
   "execution_count": 1,
   "metadata": {},
   "outputs": [],
   "source": [
    "import requests\n",
    "from urllib.parse import urlparse, quote # quote: 한글 인코딩에 필요\n",
    "import pandas as pd"
   ]
  },
  {
   "cell_type": "code",
   "execution_count": 2,
   "metadata": {},
   "outputs": [],
   "source": [
    "key_fd = open('roadapikey.txt', mode='r')\n",
    "roadapi_key = key_fd.read(100)\n",
    "key_fd.close()"
   ]
  },
  {
   "cell_type": "code",
   "execution_count": 3,
   "metadata": {},
   "outputs": [],
   "source": [
    "road_url = 'https://www.juso.go.kr/addrlink/addrLinkApi.do'\n",
    "g_url = f'{road_url}?confmKey={roadapi_key}&currentPage=1&coutPerPage=10&keyword={quote(\"강서구청\")}&resultType=json'\n",
    "ya_url = f'{road_url}?confmKey={roadapi_key}&currentPage=1&coutPerPage=10&keyword={quote(\"양천구청\")}&resultType=json'\n",
    "b_url = f'{road_url}?confmKey={roadapi_key}&currentPage=1&coutPerPage=10&keyword={quote(\"부천시청\")}&resultType=json'\n",
    "ye_url = f'{road_url}?confmKey={roadapi_key}&currentPage=1&coutPerPage=10&keyword={quote(\"영등포구청\")}&resultType=json'\n",
    "k_url = f'{road_url}?confmKey={roadapi_key}&currentPage=1&coutPerPage=10&keyword={quote(\"김포시청\")}&resultType=json'\n",
    "urls = [g_url, ya_url, b_url, ye_url, k_url]"
   ]
  },
  {
   "cell_type": "code",
   "execution_count": 4,
   "metadata": {},
   "outputs": [],
   "source": [
    "results = []\n",
    "for url in urls:\n",
    "    results.append(requests.get(url).json())"
   ]
  },
  {
   "cell_type": "code",
   "execution_count": 5,
   "metadata": {},
   "outputs": [],
   "source": [
    "addr_lists = []\n",
    "for result in results:\n",
    "    addr_lists.append(result['results']['juso'])\n",
    "g_addr_lists = addr_lists[0]\n",
    "ya_addr_lists = addr_lists[1]\n",
    "b_addr_lists = addr_lists[2]\n",
    "ye_addr_lists = addr_lists[3]\n",
    "k_addr_lists = addr_lists[4]"
   ]
  },
  {
   "cell_type": "code",
   "execution_count": 6,
   "metadata": {},
   "outputs": [],
   "source": [
    "g_addr = g_addr_lists[0]\n",
    "ya_addr = ya_addr_lists[0]\n",
    "b_addr = b_addr_lists[0]\n",
    "ye_addr = ye_addr_lists[0]\n",
    "k_addr = k_addr_lists[0]\n",
    "addrs = [g_addr, ya_addr, b_addr, ye_addr, k_addr]\n",
    "bd_list = []\n",
    "road_addr_list = []\n",
    "for addr in addrs:\n",
    "    bd_list.append(addr['bdNm']); road_addr_list.append(addr['roadAddr'])"
   ]
  },
  {
   "cell_type": "code",
   "execution_count": 7,
   "metadata": {},
   "outputs": [
    {
     "output_type": "execute_result",
     "data": {
      "text/plain": [
       "        bldg                   road_addr\n",
       "0       강서구청     서울특별시 강서구 화곡로 302 (화곡동)\n",
       "1       양천구청    서울특별시 양천구 목동동로 105 (신정동)\n",
       "2  부천시청 어린이집      경기도 부천시 길주로 210-2 (중동)\n",
       "3      영등포구청  서울특별시 영등포구 당산로 123 (당산동3가)\n",
       "4       김포시청        경기도 김포시 사우중로 1 (사우동)"
      ],
      "text/html": "<div>\n<style scoped>\n    .dataframe tbody tr th:only-of-type {\n        vertical-align: middle;\n    }\n\n    .dataframe tbody tr th {\n        vertical-align: top;\n    }\n\n    .dataframe thead th {\n        text-align: right;\n    }\n</style>\n<table border=\"1\" class=\"dataframe\">\n  <thead>\n    <tr style=\"text-align: right;\">\n      <th></th>\n      <th>bldg</th>\n      <th>road_addr</th>\n    </tr>\n  </thead>\n  <tbody>\n    <tr>\n      <th>0</th>\n      <td>강서구청</td>\n      <td>서울특별시 강서구 화곡로 302 (화곡동)</td>\n    </tr>\n    <tr>\n      <th>1</th>\n      <td>양천구청</td>\n      <td>서울특별시 양천구 목동동로 105 (신정동)</td>\n    </tr>\n    <tr>\n      <th>2</th>\n      <td>부천시청 어린이집</td>\n      <td>경기도 부천시 길주로 210-2 (중동)</td>\n    </tr>\n    <tr>\n      <th>3</th>\n      <td>영등포구청</td>\n      <td>서울특별시 영등포구 당산로 123 (당산동3가)</td>\n    </tr>\n    <tr>\n      <th>4</th>\n      <td>김포시청</td>\n      <td>경기도 김포시 사우중로 1 (사우동)</td>\n    </tr>\n  </tbody>\n</table>\n</div>"
     },
     "metadata": {},
     "execution_count": 7
    }
   ],
   "source": [
    "df = pd.DataFrame({\n",
    "    'bldg': bd_list,\n",
    "    'road_addr': road_addr_list\n",
    "})\n",
    "df"
   ]
  },
  {
   "cell_type": "code",
   "execution_count": 8,
   "metadata": {},
   "outputs": [],
   "source": [
    "df.to_csv('address.csv', sep=',', encoding='utf8', index=False)"
   ]
  }
 ]
}