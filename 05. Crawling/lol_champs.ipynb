{
 "metadata": {
  "language_info": {
   "codemirror_mode": {
    "name": "ipython",
    "version": 3
   },
   "file_extension": ".py",
   "mimetype": "text/x-python",
   "name": "python",
   "nbconvert_exporter": "python",
   "pygments_lexer": "ipython3",
   "version": "3.8.3-final"
  },
  "orig_nbformat": 2,
  "kernelspec": {
   "name": "python3",
   "display_name": "Python 3"
  }
 },
 "nbformat": 4,
 "nbformat_minor": 2,
 "cells": [
  {
   "cell_type": "code",
   "execution_count": 111,
   "metadata": {},
   "outputs": [],
   "source": [
    "from bs4 import BeautifulSoup\n",
    "from tqdm import tqdm_notebook\n",
    "import urllib.request\n",
    "import urllib.parse\n",
    "import pandas as pd\n",
    "import requests\n"
   ]
  },
  {
   "cell_type": "code",
   "execution_count": 112,
   "metadata": {},
   "outputs": [
    {
     "output_type": "display_data",
     "data": {
      "text/plain": "HBox(children=(FloatProgress(value=0.0, max=20.0), HTML(value='')))",
      "application/vnd.jupyter.widget-view+json": {
       "version_major": 2,
       "version_minor": 0,
       "model_id": "71795baaa10b4edaa103c908caeb84e6"
      }
     },
     "metadata": {}
    },
    {
     "output_type": "stream",
     "name": "stdout",
     "text": [
      "\n"
     ]
    }
   ],
   "source": [
    "players = ['hide on bush', 'T1 Ellim', '칸 나', '롤오브레전드1234', 'T1 Gumayusi']\n",
    "url = 'https://www.op.gg/summoner/userName=hide+on+bush'\n",
    "header = {'User-Agent': 'Mozilla/5.0 (Windows NT 6.3; Trident/7.0; rv:11.0) like Gecko'}\n",
    "req = requests.get(url, headers = header)\n",
    "html = req.text\n",
    "soup = BeautifulSoup(html, 'html.parser')\n",
    "results = []; play_times = []; game_types = []; champ_names = []; kills = [] \n",
    "deaths = []; assists = []; kdas = []; levels = []; css = []; ck_rates = []\n",
    "board_list = soup.select('.GameItemWrap')\n",
    "for board in tqdm_notebook(board_list):\n",
    "    result = board.select_one('.GameResult').string.strip()\n",
    "    play_time = board.select_one('.GameLength').string.strip()\n",
    "    game_type = board.select_one('.GameType').string.strip()\n",
    "    champion = board.select_one('.ChampionName')\n",
    "    champ_name = champion.a.string\n",
    "    kill = int(board.select_one('.Kill').string.strip())\n",
    "    death = int(board.select_one('.Death').string.strip())\n",
    "    assist = int(board.select_one('.Assist').string.strip())\n",
    "    if death != 0:\n",
    "        kda = round((kill + assist) / death, 2)\n",
    "    else:\n",
    "        kda = 'Perfect'\n",
    "    level = board.select_one('.Level').string.strip()[5:]\n",
    "    cs = board.select_one('.CS').span.string.split()[0]\n",
    "    ck_rate = board.select_one('.CKRate').string.strip().split()[1]\n",
    "\n",
    "    results.append(result); play_times.append(play_time); game_types.append(game_type); champ_names.append(champ_name)\n",
    "    kills.append(kill); deaths.append(death); assists.append(assist); kdas.append(kda); levels.append(level)\n",
    "    css.append(cs); ck_rates.append(ck_rate)"
   ]
  },
  {
   "cell_type": "code",
   "execution_count": 113,
   "metadata": {},
   "outputs": [
    {
     "output_type": "execute_result",
     "data": {
      "text/plain": [
       "     Result Game Length    Game Type      Champion  Kill  Death  Assist  \\\n",
       "0   Victory      16m 4s  Ranked Solo         Sylas     7      0       2   \n",
       "1    Defeat     24m 58s  Ranked Solo         Sylas     5      7       5   \n",
       "2    Defeat      26m 8s  Ranked Solo         Sylas     3      9       6   \n",
       "3   Victory     16m 14s  Ranked Solo         Akali     3      0       5   \n",
       "4   Victory     19m 32s  Ranked Solo        Irelia     5      2       1   \n",
       "5   Victory     15m 17s  Ranked Solo         Galio     6      0       6   \n",
       "6    Defeat     27m 37s  Ranked Solo         Galio     4      5      11   \n",
       "7   Victory     29m 17s  Ranked Solo         Yasuo     4      6       9   \n",
       "8   Victory     30m 41s  Ranked Solo        Lillia     9      4      15   \n",
       "9    Defeat     16m 48s  Ranked Solo         Akali     5      3       0   \n",
       "10  Victory     17m 30s  Ranked Solo        Irelia    14      2       3   \n",
       "11   Defeat     25m 54s  Ranked Solo       Rek'Sai     8      6       3   \n",
       "12   Defeat     36m 38s  Ranked Solo           Zoe    11      6       8   \n",
       "13   Defeat     29m 40s  Ranked Solo        Viktor     5      5       6   \n",
       "14  Victory     30m 46s  Ranked Solo          Ahri    11      3      12   \n",
       "15  Victory     24m 23s  Ranked Solo        Qiyana     8      2       8   \n",
       "16  Victory     25m 22s  Ranked Solo  Twisted Fate     9      0       9   \n",
       "17   Defeat     19m 48s  Ranked Solo        Lucian     3      2       5   \n",
       "18   Defeat      26m 5s  Ranked Solo        Lucian     2      2       1   \n",
       "19  Victory     31m 20s  Ranked Solo         Galio    17      5      18   \n",
       "\n",
       "        KDA Level   CS CK Rate  \n",
       "0   Perfect    12  138     82%  \n",
       "1      1.43    13  166     48%  \n",
       "2         1    13  181     60%  \n",
       "3   Perfect    11  148     36%  \n",
       "4         3    13  184     27%  \n",
       "5   Perfect    11  129     60%  \n",
       "6         3    14  172     68%  \n",
       "7      2.17    14  161     30%  \n",
       "8         6    16  199     69%  \n",
       "9      1.67    11  137     83%  \n",
       "10      8.5    13  167     61%  \n",
       "11     1.83    13  132     50%  \n",
       "12     3.17    16  198     39%  \n",
       "13      2.2    16  272     65%  \n",
       "14     7.67    17  234     61%  \n",
       "15        8    15  181     41%  \n",
       "16  Perfect    15  223     67%  \n",
       "17        4    12  164     73%  \n",
       "18      1.5    14  234     33%  \n",
       "19        7    17  202     69%  "
      ],
      "text/html": "<div>\n<style scoped>\n    .dataframe tbody tr th:only-of-type {\n        vertical-align: middle;\n    }\n\n    .dataframe tbody tr th {\n        vertical-align: top;\n    }\n\n    .dataframe thead th {\n        text-align: right;\n    }\n</style>\n<table border=\"1\" class=\"dataframe\">\n  <thead>\n    <tr style=\"text-align: right;\">\n      <th></th>\n      <th>Result</th>\n      <th>Game Length</th>\n      <th>Game Type</th>\n      <th>Champion</th>\n      <th>Kill</th>\n      <th>Death</th>\n      <th>Assist</th>\n      <th>KDA</th>\n      <th>Level</th>\n      <th>CS</th>\n      <th>CK Rate</th>\n    </tr>\n  </thead>\n  <tbody>\n    <tr>\n      <th>0</th>\n      <td>Victory</td>\n      <td>16m 4s</td>\n      <td>Ranked Solo</td>\n      <td>Sylas</td>\n      <td>7</td>\n      <td>0</td>\n      <td>2</td>\n      <td>Perfect</td>\n      <td>12</td>\n      <td>138</td>\n      <td>82%</td>\n    </tr>\n    <tr>\n      <th>1</th>\n      <td>Defeat</td>\n      <td>24m 58s</td>\n      <td>Ranked Solo</td>\n      <td>Sylas</td>\n      <td>5</td>\n      <td>7</td>\n      <td>5</td>\n      <td>1.43</td>\n      <td>13</td>\n      <td>166</td>\n      <td>48%</td>\n    </tr>\n    <tr>\n      <th>2</th>\n      <td>Defeat</td>\n      <td>26m 8s</td>\n      <td>Ranked Solo</td>\n      <td>Sylas</td>\n      <td>3</td>\n      <td>9</td>\n      <td>6</td>\n      <td>1</td>\n      <td>13</td>\n      <td>181</td>\n      <td>60%</td>\n    </tr>\n    <tr>\n      <th>3</th>\n      <td>Victory</td>\n      <td>16m 14s</td>\n      <td>Ranked Solo</td>\n      <td>Akali</td>\n      <td>3</td>\n      <td>0</td>\n      <td>5</td>\n      <td>Perfect</td>\n      <td>11</td>\n      <td>148</td>\n      <td>36%</td>\n    </tr>\n    <tr>\n      <th>4</th>\n      <td>Victory</td>\n      <td>19m 32s</td>\n      <td>Ranked Solo</td>\n      <td>Irelia</td>\n      <td>5</td>\n      <td>2</td>\n      <td>1</td>\n      <td>3</td>\n      <td>13</td>\n      <td>184</td>\n      <td>27%</td>\n    </tr>\n    <tr>\n      <th>5</th>\n      <td>Victory</td>\n      <td>15m 17s</td>\n      <td>Ranked Solo</td>\n      <td>Galio</td>\n      <td>6</td>\n      <td>0</td>\n      <td>6</td>\n      <td>Perfect</td>\n      <td>11</td>\n      <td>129</td>\n      <td>60%</td>\n    </tr>\n    <tr>\n      <th>6</th>\n      <td>Defeat</td>\n      <td>27m 37s</td>\n      <td>Ranked Solo</td>\n      <td>Galio</td>\n      <td>4</td>\n      <td>5</td>\n      <td>11</td>\n      <td>3</td>\n      <td>14</td>\n      <td>172</td>\n      <td>68%</td>\n    </tr>\n    <tr>\n      <th>7</th>\n      <td>Victory</td>\n      <td>29m 17s</td>\n      <td>Ranked Solo</td>\n      <td>Yasuo</td>\n      <td>4</td>\n      <td>6</td>\n      <td>9</td>\n      <td>2.17</td>\n      <td>14</td>\n      <td>161</td>\n      <td>30%</td>\n    </tr>\n    <tr>\n      <th>8</th>\n      <td>Victory</td>\n      <td>30m 41s</td>\n      <td>Ranked Solo</td>\n      <td>Lillia</td>\n      <td>9</td>\n      <td>4</td>\n      <td>15</td>\n      <td>6</td>\n      <td>16</td>\n      <td>199</td>\n      <td>69%</td>\n    </tr>\n    <tr>\n      <th>9</th>\n      <td>Defeat</td>\n      <td>16m 48s</td>\n      <td>Ranked Solo</td>\n      <td>Akali</td>\n      <td>5</td>\n      <td>3</td>\n      <td>0</td>\n      <td>1.67</td>\n      <td>11</td>\n      <td>137</td>\n      <td>83%</td>\n    </tr>\n    <tr>\n      <th>10</th>\n      <td>Victory</td>\n      <td>17m 30s</td>\n      <td>Ranked Solo</td>\n      <td>Irelia</td>\n      <td>14</td>\n      <td>2</td>\n      <td>3</td>\n      <td>8.5</td>\n      <td>13</td>\n      <td>167</td>\n      <td>61%</td>\n    </tr>\n    <tr>\n      <th>11</th>\n      <td>Defeat</td>\n      <td>25m 54s</td>\n      <td>Ranked Solo</td>\n      <td>Rek'Sai</td>\n      <td>8</td>\n      <td>6</td>\n      <td>3</td>\n      <td>1.83</td>\n      <td>13</td>\n      <td>132</td>\n      <td>50%</td>\n    </tr>\n    <tr>\n      <th>12</th>\n      <td>Defeat</td>\n      <td>36m 38s</td>\n      <td>Ranked Solo</td>\n      <td>Zoe</td>\n      <td>11</td>\n      <td>6</td>\n      <td>8</td>\n      <td>3.17</td>\n      <td>16</td>\n      <td>198</td>\n      <td>39%</td>\n    </tr>\n    <tr>\n      <th>13</th>\n      <td>Defeat</td>\n      <td>29m 40s</td>\n      <td>Ranked Solo</td>\n      <td>Viktor</td>\n      <td>5</td>\n      <td>5</td>\n      <td>6</td>\n      <td>2.2</td>\n      <td>16</td>\n      <td>272</td>\n      <td>65%</td>\n    </tr>\n    <tr>\n      <th>14</th>\n      <td>Victory</td>\n      <td>30m 46s</td>\n      <td>Ranked Solo</td>\n      <td>Ahri</td>\n      <td>11</td>\n      <td>3</td>\n      <td>12</td>\n      <td>7.67</td>\n      <td>17</td>\n      <td>234</td>\n      <td>61%</td>\n    </tr>\n    <tr>\n      <th>15</th>\n      <td>Victory</td>\n      <td>24m 23s</td>\n      <td>Ranked Solo</td>\n      <td>Qiyana</td>\n      <td>8</td>\n      <td>2</td>\n      <td>8</td>\n      <td>8</td>\n      <td>15</td>\n      <td>181</td>\n      <td>41%</td>\n    </tr>\n    <tr>\n      <th>16</th>\n      <td>Victory</td>\n      <td>25m 22s</td>\n      <td>Ranked Solo</td>\n      <td>Twisted Fate</td>\n      <td>9</td>\n      <td>0</td>\n      <td>9</td>\n      <td>Perfect</td>\n      <td>15</td>\n      <td>223</td>\n      <td>67%</td>\n    </tr>\n    <tr>\n      <th>17</th>\n      <td>Defeat</td>\n      <td>19m 48s</td>\n      <td>Ranked Solo</td>\n      <td>Lucian</td>\n      <td>3</td>\n      <td>2</td>\n      <td>5</td>\n      <td>4</td>\n      <td>12</td>\n      <td>164</td>\n      <td>73%</td>\n    </tr>\n    <tr>\n      <th>18</th>\n      <td>Defeat</td>\n      <td>26m 5s</td>\n      <td>Ranked Solo</td>\n      <td>Lucian</td>\n      <td>2</td>\n      <td>2</td>\n      <td>1</td>\n      <td>1.5</td>\n      <td>14</td>\n      <td>234</td>\n      <td>33%</td>\n    </tr>\n    <tr>\n      <th>19</th>\n      <td>Victory</td>\n      <td>31m 20s</td>\n      <td>Ranked Solo</td>\n      <td>Galio</td>\n      <td>17</td>\n      <td>5</td>\n      <td>18</td>\n      <td>7</td>\n      <td>17</td>\n      <td>202</td>\n      <td>69%</td>\n    </tr>\n  </tbody>\n</table>\n</div>"
     },
     "metadata": {},
     "execution_count": 113
    }
   ],
   "source": [
    "faker_mat_his = pd.DataFrame({\n",
    "    'Result': results,\n",
    "    'Game Length': play_times,\n",
    "    'Game Type': game_types,\n",
    "    'Champion': champ_names,\n",
    "    'Kill': kills,\n",
    "    'Death': deaths,\n",
    "    'Assist': assists,\n",
    "    'KDA': kdas,\n",
    "    'Level': levels,\n",
    "    'CS': css,\n",
    "    'CK Rate': ck_rates\n",
    "})\n",
    "faker_mat_his"
   ]
  },
  {
   "cell_type": "code",
   "execution_count": null,
   "metadata": {},
   "outputs": [],
   "source": []
  }
 ]
}