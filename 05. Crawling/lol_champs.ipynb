{
 "metadata": {
  "language_info": {
   "codemirror_mode": {
    "name": "ipython",
    "version": 3
   },
   "file_extension": ".py",
   "mimetype": "text/x-python",
   "name": "python",
   "nbconvert_exporter": "python",
   "pygments_lexer": "ipython3",
   "version": "3.8.3-final"
  },
  "orig_nbformat": 2,
  "kernelspec": {
   "name": "python3",
   "display_name": "Python 3"
  }
 },
 "nbformat": 4,
 "nbformat_minor": 2,
 "cells": [
  {
   "cell_type": "code",
   "execution_count": 1,
   "metadata": {},
   "outputs": [],
   "source": [
    "from bs4 import BeautifulSoup\n",
    "from tqdm import tqdm_notebook\n",
    "import urllib.request\n",
    "import urllib.parse\n",
    "import pandas as pd\n",
    "import requests\n"
   ]
  },
  {
   "cell_type": "code",
   "execution_count": 11,
   "metadata": {},
   "outputs": [
    {
     "output_type": "display_data",
     "data": {
      "text/plain": "HBox(children=(FloatProgress(value=0.0, max=20.0), HTML(value='')))",
      "application/vnd.jupyter.widget-view+json": {
       "version_major": 2,
       "version_minor": 0,
       "model_id": "3cbf3c314d7f4941a74ac6abde9880aa"
      }
     },
     "metadata": {}
    },
    {
     "output_type": "stream",
     "name": "stdout",
     "text": [
      "\n"
     ]
    },
    {
     "output_type": "display_data",
     "data": {
      "text/plain": "HBox(children=(FloatProgress(value=0.0, max=20.0), HTML(value='')))",
      "application/vnd.jupyter.widget-view+json": {
       "version_major": 2,
       "version_minor": 0,
       "model_id": "d50be107223f42ceb015ef7c26f62bde"
      }
     },
     "metadata": {}
    },
    {
     "output_type": "stream",
     "name": "stdout",
     "text": [
      "\n"
     ]
    },
    {
     "output_type": "display_data",
     "data": {
      "text/plain": "HBox(children=(FloatProgress(value=0.0, max=20.0), HTML(value='')))",
      "application/vnd.jupyter.widget-view+json": {
       "version_major": 2,
       "version_minor": 0,
       "model_id": "a1f129267a69497fad25c18d4844e542"
      }
     },
     "metadata": {}
    },
    {
     "output_type": "stream",
     "name": "stdout",
     "text": [
      "\n"
     ]
    },
    {
     "output_type": "display_data",
     "data": {
      "text/plain": "HBox(children=(FloatProgress(value=0.0, max=20.0), HTML(value='')))",
      "application/vnd.jupyter.widget-view+json": {
       "version_major": 2,
       "version_minor": 0,
       "model_id": "c08c26dc8fcf469a833f5a8465404b37"
      }
     },
     "metadata": {}
    },
    {
     "output_type": "stream",
     "name": "stdout",
     "text": [
      "\n"
     ]
    },
    {
     "output_type": "display_data",
     "data": {
      "text/plain": "HBox(children=(FloatProgress(value=0.0, max=20.0), HTML(value='')))",
      "application/vnd.jupyter.widget-view+json": {
       "version_major": 2,
       "version_minor": 0,
       "model_id": "51a4b4d2c3e34e55bc3028aef8ed72fc"
      }
     },
     "metadata": {}
    },
    {
     "output_type": "stream",
     "name": "stdout",
     "text": [
      "\n"
     ]
    }
   ],
   "source": [
    "players = ['hide on bush', 'T1 Ellim', '칸 나', '롤오브레전드1234', 'T1 Gumayusi']\n",
    "dicts = []\n",
    "for player in players:\n",
    "    url = f'https://www.op.gg/summoner/userName={player}'\n",
    "    header = {'User-Agent': 'Mozilla/5.0 (Windows NT 6.3; Trident/7.0; rv:11.0) like Gecko'}\n",
    "    req = requests.get(url, headers = header)\n",
    "    html = req.text\n",
    "    soup = BeautifulSoup(html, 'html.parser')\n",
    "    player_id = []\n",
    "    results = []; play_times = []; game_types = []; champ_names = []; kills = [] \n",
    "    deaths = []; assists = []; kdas = []; levels = []; css = []; ck_rates = []\n",
    "    board_list = soup.select('.GameItemWrap')\n",
    "    for board in tqdm_notebook(board_list):\n",
    "        if player == 'hide on bush':\n",
    "            player_id.append('Faker')\n",
    "        elif player == 'T1 Ellim':\n",
    "            player_id.append('Ellim')\n",
    "        elif player == '칸 나':\n",
    "            player_id.append('Canna')\n",
    "        elif player == '롤오브레전드1234':\n",
    "            player_id.append('Effort')\n",
    "        elif player == 'T1 Gumayusi':\n",
    "            player_id.append('Gumayusi')\n",
    "        result = board.select_one('.GameResult').string.strip()\n",
    "        play_time = board.select_one('.GameLength').string.strip()\n",
    "        game_type = board.select_one('.GameType').string.strip()\n",
    "        champion = board.select_one('.ChampionName')\n",
    "        champ_name = champion.a.string\n",
    "        kill = int(board.select_one('.Kill').string.strip())\n",
    "        death = int(board.select_one('.Death').string.strip())\n",
    "        assist = int(board.select_one('.Assist').string.strip())\n",
    "        if death != 0:\n",
    "            kda = round((kill + assist) / death, 2)\n",
    "        else:\n",
    "            kda = 'Perfect'\n",
    "        level = board.select_one('.Level').string.strip()[5:]\n",
    "        cs = board.select_one('.CS').span.string.split()[0]\n",
    "        ck_rate = board.select_one('.CKRate').string.strip().split()[1]\n",
    "\n",
    "        results.append(result); play_times.append(play_time); game_types.append(game_type); champ_names.append(champ_name)\n",
    "        kills.append(kill); deaths.append(death); assists.append(assist); kdas.append(kda); levels.append(level)\n",
    "        css.append(cs); ck_rates.append(ck_rate)\n",
    "\n",
    "    mat_his = {\n",
    "        'Player': player_id,\n",
    "        'Result': results,\n",
    "        'Game Length': play_times,\n",
    "        'Game Type': game_types,\n",
    "        'Champion': champ_names,\n",
    "        'Kill': kills,\n",
    "        'Death': deaths,\n",
    "        'Assist': assists,\n",
    "        'KDA': kdas,\n",
    "        'Level': levels,\n",
    "        'CS': css,\n",
    "        'CK Rate': ck_rates\n",
    "    }\n",
    "    dicts.append(mat_his)"
   ]
  },
  {
   "cell_type": "code",
   "execution_count": 12,
   "metadata": {},
   "outputs": [],
   "source": [
    "dfs = []\n",
    "for i in range(len(dicts)):\n",
    "    df = pd.DataFrame(dicts[i])\n",
    "    dfs.append(df)"
   ]
  },
  {
   "cell_type": "code",
   "execution_count": 18,
   "metadata": {},
   "outputs": [],
   "source": [
    "Faker = dfs[0].set_index('Player'); Ellim = dfs[1].set_index('Player'); Canna = dfs[2].set_index('Player'); Effort = dfs[3].set_index('Player'); Gumayusi = dfs[4].set_index('Player')\n",
    "tmp = Faker.append(Ellim)\n",
    "tmp = tmp.append(Canna)\n",
    "tmp = tmp.append(Effort)\n",
    "T1 = tmp.append(Gumayusi)"
   ]
  },
  {
   "cell_type": "code",
   "execution_count": 20,
   "metadata": {},
   "outputs": [],
   "source": [
    "T1.to_csv('T1 Match History.csv', encoding='utf8')"
   ]
  },
  {
   "cell_type": "code",
   "execution_count": null,
   "metadata": {},
   "outputs": [],
   "source": []
  }
 ]
}