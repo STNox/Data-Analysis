{
 "metadata": {
  "language_info": {
   "codemirror_mode": {
    "name": "ipython",
    "version": 3
   },
   "file_extension": ".py",
   "mimetype": "text/x-python",
   "name": "python",
   "nbconvert_exporter": "python",
   "pygments_lexer": "ipython3",
   "version": "3.8.3-final"
  },
  "orig_nbformat": 2,
  "kernelspec": {
   "name": "python3",
   "display_name": "Python 3"
  }
 },
 "nbformat": 4,
 "nbformat_minor": 2,
 "cells": [
  {
   "source": [
    "# 시카고 샌드위치 맛집 분석"
   ],
   "cell_type": "markdown",
   "metadata": {}
  },
  {
   "source": [
    "### 시카고 샌드위치 맛집 사이트에 접근하기"
   ],
   "cell_type": "markdown",
   "metadata": {}
  },
  {
   "cell_type": "code",
   "execution_count": 1,
   "metadata": {},
   "outputs": [],
   "source": [
    "from bs4 import BeautifulSoup\n",
    "from urllib.request import urlopen\n",
    "from urllib.parse import urljoin\n",
    "import pandas as pd"
   ]
  },
  {
   "cell_type": "code",
   "execution_count": 2,
   "metadata": {},
   "outputs": [],
   "source": [
    "url_base = 'http://www.chicagomag.com'\n",
    "url_sub = '/Chicago-Magazine/November-2012/Best-Sandwiches-Chicago/'\n",
    "url = url_base + url_sub\n",
    "\n",
    "html = urlopen(url)\n",
    "soup = BeautifulSoup(html, 'html.parser')"
   ]
  },
  {
   "cell_type": "code",
   "execution_count": 3,
   "metadata": {},
   "outputs": [
    {
     "output_type": "execute_result",
     "data": {
      "text/plain": [
       "['BLT\\r', 'Old Oak Tap', 'Read more ']"
      ]
     },
     "metadata": {},
     "execution_count": 3
    }
   ],
   "source": [
    "rest_list = soup.find_all('div', 'sammy')\n",
    "rank = rest_list[0].find('div', 'sammyRank').string\n",
    "sammy_list = rest_list[0].select_one('.sammyListing')\n",
    "link = sammy_list.a.attrs['href']\n",
    "tmp = rest_list[0].find('a').get_text()\n",
    "tmp.split('\\n')"
   ]
  },
  {
   "cell_type": "code",
   "execution_count": 4,
   "metadata": {},
   "outputs": [
    {
     "output_type": "execute_result",
     "data": {
      "text/plain": [
       "('BLT', 'Old Oak Tap')"
      ]
     },
     "metadata": {},
     "execution_count": 4
    }
   ],
   "source": [
    "menu = tmp.split('\\n')[0].replace('\\r', '')\n",
    "cafe = tmp.split('\\n')[1]\n",
    "menu, cafe"
   ]
  },
  {
   "cell_type": "code",
   "execution_count": 5,
   "metadata": {},
   "outputs": [],
   "source": [
    "rank_list = []; link_list = []; menu_list = []; cafe_list = []\n",
    "for rest in rest_list:\n",
    "    rank = int(rest.find('div', 'sammyRank').string)\n",
    "    link = urljoin(url_base, rest.select_one('.sammyListing').a['href'])          # urljoin: url_base가 이미 있는 경우에도 자동으로 full-path를 만들어 준다\n",
    "    tmp = rest.find('a').get_text().split('\\n')\n",
    "    menu = tmp[0].replace('\\r', '')\n",
    "    cafe = tmp[1]\n",
    "    \n",
    "    rank_list.append(rank); link_list.append(link)\n",
    "    menu_list.append(menu); cafe_list.append(cafe)"
   ]
  },
  {
   "cell_type": "code",
   "execution_count": 6,
   "metadata": {},
   "outputs": [
    {
     "output_type": "execute_result",
     "data": {
      "text/plain": [
       "                                 Cafe  \\\n",
       "Rank                                    \n",
       "1                         Old Oak Tap   \n",
       "2                           Au Cheval   \n",
       "3                                Xoco   \n",
       "4                           Al’s Deli   \n",
       "5              Publican Quality Meats   \n",
       "6     Hendrickx Belgian Bread Crafter   \n",
       "7                              Acadia   \n",
       "8                   Birchwood Kitchen   \n",
       "9                      Cemitas Puebla   \n",
       "10                               Nana   \n",
       "11                          Lula Cafe   \n",
       "12                         Ricobene’s   \n",
       "13                       Frog n Snail   \n",
       "14                   Crosby’s Kitchen   \n",
       "15                    Longman & Eagle   \n",
       "16                               Bari   \n",
       "17                            Manny’s   \n",
       "18                             Eggy’s   \n",
       "19                      Old Jerusalem   \n",
       "20               Mindy’s HotChocolate   \n",
       "21                Olga’s Delicatessen   \n",
       "22       Dawali Mediterranean Kitchen   \n",
       "23                          Big Jones   \n",
       "24                            La Pane   \n",
       "25                           Pastoral   \n",
       "26                         Max’s Deli   \n",
       "27               Lucky’s Sandwich Co.   \n",
       "28                    City Provisions   \n",
       "29               Papa’s Cache Sabroso   \n",
       "30              Bavette’s Bar & Boeuf   \n",
       "31                   Hannah’s Bretzel   \n",
       "32                       La Fournette   \n",
       "33                     Paramount Room   \n",
       "34               Melt Sandwich Shoppe   \n",
       "35             Floriole Cafe & Bakery   \n",
       "36               First Slice Pie Café   \n",
       "37                            Troquet   \n",
       "38                         Grahamwich   \n",
       "39                     Saigon Sisters   \n",
       "40                     Rosalia’s Deli   \n",
       "41                     Z&H MarketCafe   \n",
       "42         Market House on the Square   \n",
       "43               Elaine’s Coffee Call   \n",
       "44        Marion Street Cheese Market   \n",
       "45                           Cafecito   \n",
       "46                           Chickpea   \n",
       "47             The Goddess and Grocer   \n",
       "48                            Zenwich   \n",
       "49                    Toni Patisserie   \n",
       "50                    Phoebe’s Bakery   \n",
       "\n",
       "                                                Menu  \\\n",
       "Rank                                                   \n",
       "1                                                BLT   \n",
       "2                                      Fried Bologna   \n",
       "3                                  Woodland Mushroom   \n",
       "4                                         Roast Beef   \n",
       "5                                               PB&L   \n",
       "6                        Belgian Chicken Curry Salad   \n",
       "7                                       Lobster Roll   \n",
       "8                                Smoked Salmon Salad   \n",
       "9                                    Atomica Cemitas   \n",
       "10    Grilled Laughing Bird Shrimp and Fried Po’ Boy   \n",
       "11                           Ham and Raclette Panino   \n",
       "12                                     Breaded Steak   \n",
       "13                                       The Hawkeye   \n",
       "14                                       Chicken Dip   \n",
       "15                              Wild Boar Sloppy Joe   \n",
       "16                                      Meatball Sub   \n",
       "17                                       Corned Beef   \n",
       "18                                       Turkey Club   \n",
       "19                                           Falafel   \n",
       "20                                         Crab Cake   \n",
       "21                                 Chicken Schnitzel   \n",
       "22                                          Shawarma   \n",
       "23                           Toasted Pimiento Cheese   \n",
       "24                                 Vegetarian Panino   \n",
       "25                                       Cali Chèvre   \n",
       "26                                          Pastrami   \n",
       "27                                         The Fredo   \n",
       "28                                        Smoked Ham   \n",
       "29                                          Jibarito   \n",
       "30                                  Shaved Prime Rib   \n",
       "31                   Serrano Ham and Manchego Cheese   \n",
       "32                                        Tuna Salad   \n",
       "33                                  Paramount Reuben   \n",
       "34                                      The Istanbul   \n",
       "35                                            B.A.D.   \n",
       "36                        Duck Confit and Mozzarella   \n",
       "37                                   Croque Monsieur   \n",
       "38                                    Green Garbanzo   \n",
       "39                                     The Hen House   \n",
       "40                                    Tuscan Chicken   \n",
       "41                                        The Marty    \n",
       "42                                         Whitefish   \n",
       "43            Oat Bread, Pecan Butter, and Fruit Jam   \n",
       "44                                  Cauliflower Melt   \n",
       "45                                            Cubana   \n",
       "46                                             Kufta   \n",
       "47                                Debbie’s Egg Salad   \n",
       "48                                        Beef Curry   \n",
       "49                                     Le Végétarien   \n",
       "50                                        The Gatsby   \n",
       "\n",
       "                                                   Link  \n",
       "Rank                                                     \n",
       "1     http://www.chicagomag.com/Chicago-Magazine/Nov...  \n",
       "2     http://www.chicagomag.com/Chicago-Magazine/Nov...  \n",
       "3     http://www.chicagomag.com/Chicago-Magazine/Nov...  \n",
       "4     http://www.chicagomag.com/Chicago-Magazine/Nov...  \n",
       "5     http://www.chicagomag.com/Chicago-Magazine/Nov...  \n",
       "6     http://www.chicagomag.com/Chicago-Magazine/Nov...  \n",
       "7     http://www.chicagomag.com/Chicago-Magazine/Nov...  \n",
       "8     http://www.chicagomag.com/Chicago-Magazine/Nov...  \n",
       "9     http://www.chicagomag.com/Chicago-Magazine/Nov...  \n",
       "10    http://www.chicagomag.com/Chicago-Magazine/Nov...  \n",
       "11    http://www.chicagomag.com/Chicago-Magazine/Nov...  \n",
       "12    http://www.chicagomag.com/Chicago-Magazine/Nov...  \n",
       "13    http://www.chicagomag.com/Chicago-Magazine/Nov...  \n",
       "14    http://www.chicagomag.com/Chicago-Magazine/Nov...  \n",
       "15    http://www.chicagomag.com/Chicago-Magazine/Nov...  \n",
       "16    http://www.chicagomag.com/Chicago-Magazine/Nov...  \n",
       "17    http://www.chicagomag.com/Chicago-Magazine/Nov...  \n",
       "18    http://www.chicagomag.com/Chicago-Magazine/Nov...  \n",
       "19    http://www.chicagomag.com/Chicago-Magazine/Nov...  \n",
       "20    http://www.chicagomag.com/Chicago-Magazine/Nov...  \n",
       "21    http://www.chicagomag.com/Chicago-Magazine/Nov...  \n",
       "22    http://www.chicagomag.com/Chicago-Magazine/Nov...  \n",
       "23    http://www.chicagomag.com/Chicago-Magazine/Nov...  \n",
       "24    http://www.chicagomag.com/Chicago-Magazine/Nov...  \n",
       "25    http://www.chicagomag.com/Chicago-Magazine/Nov...  \n",
       "26    http://www.chicagomag.com/Chicago-Magazine/Nov...  \n",
       "27    http://www.chicagomag.com/Chicago-Magazine/Nov...  \n",
       "28    http://www.chicagomag.com/Chicago-Magazine/Nov...  \n",
       "29    http://www.chicagomag.com/Chicago-Magazine/Nov...  \n",
       "30    http://www.chicagomag.com/Chicago-Magazine/Nov...  \n",
       "31    http://www.chicagomag.com/Chicago-Magazine/Nov...  \n",
       "32    http://www.chicagomag.com/Chicago-Magazine/Nov...  \n",
       "33    http://www.chicagomag.com/Chicago-Magazine/Nov...  \n",
       "34    http://www.chicagomag.com/Chicago-Magazine/Nov...  \n",
       "35    http://www.chicagomag.com/Chicago-Magazine/Nov...  \n",
       "36    http://www.chicagomag.com/Chicago-Magazine/Nov...  \n",
       "37    http://www.chicagomag.com/Chicago-Magazine/Nov...  \n",
       "38    http://www.chicagomag.com/Chicago-Magazine/Nov...  \n",
       "39    http://www.chicagomag.com/Chicago-Magazine/Nov...  \n",
       "40    http://www.chicagomag.com/Chicago-Magazine/Nov...  \n",
       "41    http://www.chicagomag.com/Chicago-Magazine/Nov...  \n",
       "42    http://www.chicagomag.com/Chicago-Magazine/Nov...  \n",
       "43    http://www.chicagomag.com/Chicago-Magazine/Nov...  \n",
       "44    http://www.chicagomag.com/Chicago-Magazine/Nov...  \n",
       "45    http://www.chicagomag.com/Chicago-Magazine/Nov...  \n",
       "46    http://www.chicagomag.com/Chicago-Magazine/Nov...  \n",
       "47    http://www.chicagomag.com/Chicago-Magazine/Nov...  \n",
       "48    http://www.chicagomag.com/Chicago-Magazine/Nov...  \n",
       "49    http://www.chicagomag.com/Chicago-Magazine/Nov...  \n",
       "50    http://www.chicagomag.com/Chicago-Magazine/Nov...  "
      ],
      "text/html": "<div>\n<style scoped>\n    .dataframe tbody tr th:only-of-type {\n        vertical-align: middle;\n    }\n\n    .dataframe tbody tr th {\n        vertical-align: top;\n    }\n\n    .dataframe thead th {\n        text-align: right;\n    }\n</style>\n<table border=\"1\" class=\"dataframe\">\n  <thead>\n    <tr style=\"text-align: right;\">\n      <th></th>\n      <th>Cafe</th>\n      <th>Menu</th>\n      <th>Link</th>\n    </tr>\n    <tr>\n      <th>Rank</th>\n      <th></th>\n      <th></th>\n      <th></th>\n    </tr>\n  </thead>\n  <tbody>\n    <tr>\n      <th>1</th>\n      <td>Old Oak Tap</td>\n      <td>BLT</td>\n      <td>http://www.chicagomag.com/Chicago-Magazine/Nov...</td>\n    </tr>\n    <tr>\n      <th>2</th>\n      <td>Au Cheval</td>\n      <td>Fried Bologna</td>\n      <td>http://www.chicagomag.com/Chicago-Magazine/Nov...</td>\n    </tr>\n    <tr>\n      <th>3</th>\n      <td>Xoco</td>\n      <td>Woodland Mushroom</td>\n      <td>http://www.chicagomag.com/Chicago-Magazine/Nov...</td>\n    </tr>\n    <tr>\n      <th>4</th>\n      <td>Al’s Deli</td>\n      <td>Roast Beef</td>\n      <td>http://www.chicagomag.com/Chicago-Magazine/Nov...</td>\n    </tr>\n    <tr>\n      <th>5</th>\n      <td>Publican Quality Meats</td>\n      <td>PB&amp;L</td>\n      <td>http://www.chicagomag.com/Chicago-Magazine/Nov...</td>\n    </tr>\n    <tr>\n      <th>6</th>\n      <td>Hendrickx Belgian Bread Crafter</td>\n      <td>Belgian Chicken Curry Salad</td>\n      <td>http://www.chicagomag.com/Chicago-Magazine/Nov...</td>\n    </tr>\n    <tr>\n      <th>7</th>\n      <td>Acadia</td>\n      <td>Lobster Roll</td>\n      <td>http://www.chicagomag.com/Chicago-Magazine/Nov...</td>\n    </tr>\n    <tr>\n      <th>8</th>\n      <td>Birchwood Kitchen</td>\n      <td>Smoked Salmon Salad</td>\n      <td>http://www.chicagomag.com/Chicago-Magazine/Nov...</td>\n    </tr>\n    <tr>\n      <th>9</th>\n      <td>Cemitas Puebla</td>\n      <td>Atomica Cemitas</td>\n      <td>http://www.chicagomag.com/Chicago-Magazine/Nov...</td>\n    </tr>\n    <tr>\n      <th>10</th>\n      <td>Nana</td>\n      <td>Grilled Laughing Bird Shrimp and Fried Po’ Boy</td>\n      <td>http://www.chicagomag.com/Chicago-Magazine/Nov...</td>\n    </tr>\n    <tr>\n      <th>11</th>\n      <td>Lula Cafe</td>\n      <td>Ham and Raclette Panino</td>\n      <td>http://www.chicagomag.com/Chicago-Magazine/Nov...</td>\n    </tr>\n    <tr>\n      <th>12</th>\n      <td>Ricobene’s</td>\n      <td>Breaded Steak</td>\n      <td>http://www.chicagomag.com/Chicago-Magazine/Nov...</td>\n    </tr>\n    <tr>\n      <th>13</th>\n      <td>Frog n Snail</td>\n      <td>The Hawkeye</td>\n      <td>http://www.chicagomag.com/Chicago-Magazine/Nov...</td>\n    </tr>\n    <tr>\n      <th>14</th>\n      <td>Crosby’s Kitchen</td>\n      <td>Chicken Dip</td>\n      <td>http://www.chicagomag.com/Chicago-Magazine/Nov...</td>\n    </tr>\n    <tr>\n      <th>15</th>\n      <td>Longman &amp; Eagle</td>\n      <td>Wild Boar Sloppy Joe</td>\n      <td>http://www.chicagomag.com/Chicago-Magazine/Nov...</td>\n    </tr>\n    <tr>\n      <th>16</th>\n      <td>Bari</td>\n      <td>Meatball Sub</td>\n      <td>http://www.chicagomag.com/Chicago-Magazine/Nov...</td>\n    </tr>\n    <tr>\n      <th>17</th>\n      <td>Manny’s</td>\n      <td>Corned Beef</td>\n      <td>http://www.chicagomag.com/Chicago-Magazine/Nov...</td>\n    </tr>\n    <tr>\n      <th>18</th>\n      <td>Eggy’s</td>\n      <td>Turkey Club</td>\n      <td>http://www.chicagomag.com/Chicago-Magazine/Nov...</td>\n    </tr>\n    <tr>\n      <th>19</th>\n      <td>Old Jerusalem</td>\n      <td>Falafel</td>\n      <td>http://www.chicagomag.com/Chicago-Magazine/Nov...</td>\n    </tr>\n    <tr>\n      <th>20</th>\n      <td>Mindy’s HotChocolate</td>\n      <td>Crab Cake</td>\n      <td>http://www.chicagomag.com/Chicago-Magazine/Nov...</td>\n    </tr>\n    <tr>\n      <th>21</th>\n      <td>Olga’s Delicatessen</td>\n      <td>Chicken Schnitzel</td>\n      <td>http://www.chicagomag.com/Chicago-Magazine/Nov...</td>\n    </tr>\n    <tr>\n      <th>22</th>\n      <td>Dawali Mediterranean Kitchen</td>\n      <td>Shawarma</td>\n      <td>http://www.chicagomag.com/Chicago-Magazine/Nov...</td>\n    </tr>\n    <tr>\n      <th>23</th>\n      <td>Big Jones</td>\n      <td>Toasted Pimiento Cheese</td>\n      <td>http://www.chicagomag.com/Chicago-Magazine/Nov...</td>\n    </tr>\n    <tr>\n      <th>24</th>\n      <td>La Pane</td>\n      <td>Vegetarian Panino</td>\n      <td>http://www.chicagomag.com/Chicago-Magazine/Nov...</td>\n    </tr>\n    <tr>\n      <th>25</th>\n      <td>Pastoral</td>\n      <td>Cali Chèvre</td>\n      <td>http://www.chicagomag.com/Chicago-Magazine/Nov...</td>\n    </tr>\n    <tr>\n      <th>26</th>\n      <td>Max’s Deli</td>\n      <td>Pastrami</td>\n      <td>http://www.chicagomag.com/Chicago-Magazine/Nov...</td>\n    </tr>\n    <tr>\n      <th>27</th>\n      <td>Lucky’s Sandwich Co.</td>\n      <td>The Fredo</td>\n      <td>http://www.chicagomag.com/Chicago-Magazine/Nov...</td>\n    </tr>\n    <tr>\n      <th>28</th>\n      <td>City Provisions</td>\n      <td>Smoked Ham</td>\n      <td>http://www.chicagomag.com/Chicago-Magazine/Nov...</td>\n    </tr>\n    <tr>\n      <th>29</th>\n      <td>Papa’s Cache Sabroso</td>\n      <td>Jibarito</td>\n      <td>http://www.chicagomag.com/Chicago-Magazine/Nov...</td>\n    </tr>\n    <tr>\n      <th>30</th>\n      <td>Bavette’s Bar &amp; Boeuf</td>\n      <td>Shaved Prime Rib</td>\n      <td>http://www.chicagomag.com/Chicago-Magazine/Nov...</td>\n    </tr>\n    <tr>\n      <th>31</th>\n      <td>Hannah’s Bretzel</td>\n      <td>Serrano Ham and Manchego Cheese</td>\n      <td>http://www.chicagomag.com/Chicago-Magazine/Nov...</td>\n    </tr>\n    <tr>\n      <th>32</th>\n      <td>La Fournette</td>\n      <td>Tuna Salad</td>\n      <td>http://www.chicagomag.com/Chicago-Magazine/Nov...</td>\n    </tr>\n    <tr>\n      <th>33</th>\n      <td>Paramount Room</td>\n      <td>Paramount Reuben</td>\n      <td>http://www.chicagomag.com/Chicago-Magazine/Nov...</td>\n    </tr>\n    <tr>\n      <th>34</th>\n      <td>Melt Sandwich Shoppe</td>\n      <td>The Istanbul</td>\n      <td>http://www.chicagomag.com/Chicago-Magazine/Nov...</td>\n    </tr>\n    <tr>\n      <th>35</th>\n      <td>Floriole Cafe &amp; Bakery</td>\n      <td>B.A.D.</td>\n      <td>http://www.chicagomag.com/Chicago-Magazine/Nov...</td>\n    </tr>\n    <tr>\n      <th>36</th>\n      <td>First Slice Pie Café</td>\n      <td>Duck Confit and Mozzarella</td>\n      <td>http://www.chicagomag.com/Chicago-Magazine/Nov...</td>\n    </tr>\n    <tr>\n      <th>37</th>\n      <td>Troquet</td>\n      <td>Croque Monsieur</td>\n      <td>http://www.chicagomag.com/Chicago-Magazine/Nov...</td>\n    </tr>\n    <tr>\n      <th>38</th>\n      <td>Grahamwich</td>\n      <td>Green Garbanzo</td>\n      <td>http://www.chicagomag.com/Chicago-Magazine/Nov...</td>\n    </tr>\n    <tr>\n      <th>39</th>\n      <td>Saigon Sisters</td>\n      <td>The Hen House</td>\n      <td>http://www.chicagomag.com/Chicago-Magazine/Nov...</td>\n    </tr>\n    <tr>\n      <th>40</th>\n      <td>Rosalia’s Deli</td>\n      <td>Tuscan Chicken</td>\n      <td>http://www.chicagomag.com/Chicago-Magazine/Nov...</td>\n    </tr>\n    <tr>\n      <th>41</th>\n      <td>Z&amp;H MarketCafe</td>\n      <td>The Marty</td>\n      <td>http://www.chicagomag.com/Chicago-Magazine/Nov...</td>\n    </tr>\n    <tr>\n      <th>42</th>\n      <td>Market House on the Square</td>\n      <td>Whitefish</td>\n      <td>http://www.chicagomag.com/Chicago-Magazine/Nov...</td>\n    </tr>\n    <tr>\n      <th>43</th>\n      <td>Elaine’s Coffee Call</td>\n      <td>Oat Bread, Pecan Butter, and Fruit Jam</td>\n      <td>http://www.chicagomag.com/Chicago-Magazine/Nov...</td>\n    </tr>\n    <tr>\n      <th>44</th>\n      <td>Marion Street Cheese Market</td>\n      <td>Cauliflower Melt</td>\n      <td>http://www.chicagomag.com/Chicago-Magazine/Nov...</td>\n    </tr>\n    <tr>\n      <th>45</th>\n      <td>Cafecito</td>\n      <td>Cubana</td>\n      <td>http://www.chicagomag.com/Chicago-Magazine/Nov...</td>\n    </tr>\n    <tr>\n      <th>46</th>\n      <td>Chickpea</td>\n      <td>Kufta</td>\n      <td>http://www.chicagomag.com/Chicago-Magazine/Nov...</td>\n    </tr>\n    <tr>\n      <th>47</th>\n      <td>The Goddess and Grocer</td>\n      <td>Debbie’s Egg Salad</td>\n      <td>http://www.chicagomag.com/Chicago-Magazine/Nov...</td>\n    </tr>\n    <tr>\n      <th>48</th>\n      <td>Zenwich</td>\n      <td>Beef Curry</td>\n      <td>http://www.chicagomag.com/Chicago-Magazine/Nov...</td>\n    </tr>\n    <tr>\n      <th>49</th>\n      <td>Toni Patisserie</td>\n      <td>Le Végétarien</td>\n      <td>http://www.chicagomag.com/Chicago-Magazine/Nov...</td>\n    </tr>\n    <tr>\n      <th>50</th>\n      <td>Phoebe’s Bakery</td>\n      <td>The Gatsby</td>\n      <td>http://www.chicagomag.com/Chicago-Magazine/Nov...</td>\n    </tr>\n  </tbody>\n</table>\n</div>"
     },
     "metadata": {},
     "execution_count": 6
    }
   ],
   "source": [
    "df = pd.DataFrame({\n",
    "    'Rank': rank_list,\n",
    "    'Cafe': cafe_list,\n",
    "    'Menu': menu_list,\n",
    "    'Link': link_list\n",
    "})\n",
    "df = df.set_index('Rank')\n",
    "df"
   ]
  },
  {
   "cell_type": "code",
   "execution_count": 7,
   "metadata": {},
   "outputs": [
    {
     "output_type": "execute_result",
     "data": {
      "text/plain": [
       "'http://www.chicagomag.com/Chicago-Magazine/November-2012/Best-Sandwiches-in-Chicago-Toni-Patisserie-Le-Vegetarien/'"
      ]
     },
     "metadata": {},
     "execution_count": 7
    }
   ],
   "source": [
    "df.to_csv('Chicago Sandwich.csv', sep=',', encoding='utf8')\n",
    "df['Link'][49]"
   ]
  },
  {
   "source": [
    "### 다수의 웹페이지에 자동으로 접근해서 원하는 정보 가져오기"
   ],
   "cell_type": "markdown",
   "metadata": {}
  },
  {
   "cell_type": "code",
   "execution_count": 8,
   "metadata": {},
   "outputs": [],
   "source": [
    "html = urlopen(df['Link'][1])\n",
    "soup_tmp = BeautifulSoup(html, 'html.parser')"
   ]
  },
  {
   "cell_type": "code",
   "execution_count": 9,
   "metadata": {},
   "outputs": [
    {
     "output_type": "execute_result",
     "data": {
      "text/plain": [
       "'\\n$10. 2109 W. Chicago Ave., 773-772-0406, theoldoaktap.com'"
      ]
     },
     "metadata": {},
     "execution_count": 9
    }
   ],
   "source": [
    "soup_tmp.select_one('.addy').get_text()"
   ]
  },
  {
   "cell_type": "code",
   "execution_count": 10,
   "metadata": {},
   "outputs": [],
   "source": [
    "tmp = soup_tmp.select_one('.addy').get_text().split(',')"
   ]
  },
  {
   "cell_type": "code",
   "execution_count": 11,
   "metadata": {},
   "outputs": [
    {
     "output_type": "execute_result",
     "data": {
      "text/plain": [
       "''"
      ]
     },
     "metadata": {},
     "execution_count": 11
    }
   ],
   "source": [
    "' '.join(tmp[1:-2]).replace(',', '')"
   ]
  },
  {
   "cell_type": "code",
   "execution_count": 12,
   "metadata": {},
   "outputs": [
    {
     "output_type": "execute_result",
     "data": {
      "text/plain": [
       "'$10'"
      ]
     },
     "metadata": {},
     "execution_count": 12
    }
   ],
   "source": [
    "price = tmp[0].split()[0]\n",
    "price = price[:-1]\n",
    "price"
   ]
  },
  {
   "cell_type": "code",
   "execution_count": 13,
   "metadata": {},
   "outputs": [
    {
     "output_type": "execute_result",
     "data": {
      "text/plain": [
       "'2109 W. Chicago Ave.'"
      ]
     },
     "metadata": {},
     "execution_count": 13
    }
   ],
   "source": [
    "addr = ' '.join(tmp[0].split()[1:])\n",
    "addr"
   ]
  },
  {
   "cell_type": "code",
   "execution_count": 14,
   "metadata": {},
   "outputs": [
    {
     "output_type": "execute_result",
     "data": {
      "text/plain": [
       "'773-772-0406'"
      ]
     },
     "metadata": {},
     "execution_count": 14
    }
   ],
   "source": [
    "tmp[1].strip()"
   ]
  },
  {
   "cell_type": "code",
   "execution_count": 15,
   "metadata": {},
   "outputs": [],
   "source": [
    "from tqdm import tqdm_notebook"
   ]
  },
  {
   "cell_type": "code",
   "execution_count": 16,
   "metadata": {},
   "outputs": [
    {
     "output_type": "display_data",
     "data": {
      "text/plain": "HBox(children=(FloatProgress(value=0.0, max=50.0), HTML(value='')))",
      "application/vnd.jupyter.widget-view+json": {
       "version_major": 2,
       "version_minor": 0,
       "model_id": "6eb3e2680f7f4f72b453065dbc373390"
      }
     },
     "metadata": {}
    },
    {
     "output_type": "stream",
     "name": "stdout",
     "text": [
      "\n"
     ]
    }
   ],
   "source": [
    "rank_list = []; link_list = []; menu_list = []; cafe_list = []\n",
    "price_list = []; addr_list = []; tel_list = []; hp_list = []\n",
    "for rest in tqdm_notebook(rest_list):\n",
    "    rank = int(rest.find('div', 'sammyRank').string)\n",
    "    link = urljoin(url_base, rest.select_one('.sammyListing').a['href'])          \n",
    "    tmp = rest.find('a').get_text().split('\\n')\n",
    "    menu = tmp[0].replace('\\r', '')\n",
    "    cafe = tmp[1]   \n",
    "    rank_list.append(rank); link_list.append(link)\n",
    "    menu_list.append(menu); cafe_list.append(cafe)\n",
    "\n",
    "    html = urlopen(link)\n",
    "    soup_tmp = BeautifulSoup(html, 'html.parser')\n",
    "    tmp = soup_tmp.select_one('.addy').get_text().split(',')\n",
    "    price = tmp[0].split()[0][:-1]\n",
    "    price_list.append(price)\n",
    "    addr = ' '.join(tmp[0].split()[1:])\n",
    "    if len(tmp) == 1:\n",
    "        addr_list.append(addr)\n",
    "        tel_list.append('')\n",
    "        hp_list.append('')\n",
    "    elif len(tmp) == 2:\n",
    "        if addr.find('Multiple') >= 0:\n",
    "            addr_list.append(' ')\n",
    "            tel_list.append('')\n",
    "            hp_list.append(tmp[1])\n",
    "        else:\n",
    "            addr_list.append(addr)\n",
    "            tel_list.append(tmp[1].strip())\n",
    "            hp_list.append('')\n",
    "    elif len(tmp) == 3:\n",
    "        addr_list.append(addr)\n",
    "        tel_list.append(tmp[1].strip())\n",
    "        hp_list.append(tmp[2])\n",
    "    elif len(tmp) == 4:\n",
    "        addr += ', ' + tmp[1]\n",
    "        addr_list.append(addr)\n",
    "        tel_list.append(tmp[2].strip())\n",
    "        hp_list.append(tmp[3])"
   ]
  },
  {
   "cell_type": "code",
   "execution_count": 17,
   "metadata": {},
   "outputs": [
    {
     "output_type": "execute_result",
     "data": {
      "text/plain": [
       "(50, 50, 50, 50, 50, 50, 50)"
      ]
     },
     "metadata": {},
     "execution_count": 17
    }
   ],
   "source": [
    "len(rank_list), len(cafe_list), len(menu_list), len(price_list), len(addr_list), len(tel_list), len(hp_list)"
   ]
  },
  {
   "cell_type": "code",
   "execution_count": 18,
   "metadata": {},
   "outputs": [
    {
     "output_type": "execute_result",
     "data": {
      "text/plain": [
       "    Rank                             Cafe  \\\n",
       "0      1                      Old Oak Tap   \n",
       "1      2                        Au Cheval   \n",
       "2      3                             Xoco   \n",
       "3      4                        Al’s Deli   \n",
       "4      5           Publican Quality Meats   \n",
       "5      6  Hendrickx Belgian Bread Crafter   \n",
       "6      7                           Acadia   \n",
       "7      8                Birchwood Kitchen   \n",
       "8      9                   Cemitas Puebla   \n",
       "9     10                             Nana   \n",
       "10    11                        Lula Cafe   \n",
       "11    12                       Ricobene’s   \n",
       "12    13                     Frog n Snail   \n",
       "13    14                 Crosby’s Kitchen   \n",
       "14    15                  Longman & Eagle   \n",
       "15    16                             Bari   \n",
       "16    17                          Manny’s   \n",
       "17    18                           Eggy’s   \n",
       "18    19                    Old Jerusalem   \n",
       "19    20             Mindy’s HotChocolate   \n",
       "20    21              Olga’s Delicatessen   \n",
       "21    22     Dawali Mediterranean Kitchen   \n",
       "22    23                        Big Jones   \n",
       "23    24                          La Pane   \n",
       "24    25                         Pastoral   \n",
       "25    26                       Max’s Deli   \n",
       "26    27             Lucky’s Sandwich Co.   \n",
       "27    28                  City Provisions   \n",
       "28    29             Papa’s Cache Sabroso   \n",
       "29    30            Bavette’s Bar & Boeuf   \n",
       "30    31                 Hannah’s Bretzel   \n",
       "31    32                     La Fournette   \n",
       "32    33                   Paramount Room   \n",
       "33    34             Melt Sandwich Shoppe   \n",
       "34    35           Floriole Cafe & Bakery   \n",
       "35    36             First Slice Pie Café   \n",
       "36    37                          Troquet   \n",
       "37    38                       Grahamwich   \n",
       "38    39                   Saigon Sisters   \n",
       "39    40                   Rosalia’s Deli   \n",
       "40    41                   Z&H MarketCafe   \n",
       "41    42       Market House on the Square   \n",
       "42    43             Elaine’s Coffee Call   \n",
       "43    44      Marion Street Cheese Market   \n",
       "44    45                         Cafecito   \n",
       "45    46                         Chickpea   \n",
       "46    47           The Goddess and Grocer   \n",
       "47    48                          Zenwich   \n",
       "48    49                  Toni Patisserie   \n",
       "49    50                  Phoebe’s Bakery   \n",
       "\n",
       "                                              Menu   Price  \\\n",
       "0                                              BLT     $10   \n",
       "1                                    Fried Bologna      $9   \n",
       "2                                Woodland Mushroom   $9.50   \n",
       "3                                       Roast Beef   $9.40   \n",
       "4                                             PB&L     $10   \n",
       "5                      Belgian Chicken Curry Salad   $7.25   \n",
       "6                                     Lobster Roll     $16   \n",
       "7                              Smoked Salmon Salad     $10   \n",
       "8                                  Atomica Cemitas      $9   \n",
       "9   Grilled Laughing Bird Shrimp and Fried Po’ Boy     $17   \n",
       "10                         Ham and Raclette Panino     $11   \n",
       "11                                   Breaded Steak   $5.49   \n",
       "12                                     The Hawkeye     $14   \n",
       "13                                     Chicken Dip     $10   \n",
       "14                            Wild Boar Sloppy Joe     $13   \n",
       "15                                    Meatball Sub   $4.50   \n",
       "16                                     Corned Beef  $11.95   \n",
       "17                                     Turkey Club  $11.50   \n",
       "18                                         Falafel   $6.25   \n",
       "19                                       Crab Cake     $15   \n",
       "20                               Chicken Schnitzel      $5   \n",
       "21                                        Shawarma      $6   \n",
       "22                         Toasted Pimiento Cheese      $8   \n",
       "23                               Vegetarian Panino   $5.99   \n",
       "24                                     Cali Chèvre   $7.52   \n",
       "25                                        Pastrami  $11.95   \n",
       "26                                       The Fredo   $7.50   \n",
       "27                                      Smoked Ham  $12.95   \n",
       "28                                        Jibarito      $7   \n",
       "29                                Shaved Prime Rib     $21   \n",
       "30                 Serrano Ham and Manchego Cheese   $9.79   \n",
       "31                                      Tuna Salad   $9.75   \n",
       "32                                Paramount Reuben     $13   \n",
       "33                                    The Istanbul   $7.95   \n",
       "34                                          B.A.D.      $9   \n",
       "35                      Duck Confit and Mozzarella      $9   \n",
       "36                                 Croque Monsieur      $8   \n",
       "37                                  Green Garbanzo      $8   \n",
       "38                                   The Hen House      $7   \n",
       "39                                  Tuscan Chicken      $6   \n",
       "40                                      The Marty    $7.25   \n",
       "41                                       Whitefish     $11   \n",
       "42          Oat Bread, Pecan Butter, and Fruit Jam      $6   \n",
       "43                                Cauliflower Melt      $9   \n",
       "44                                          Cubana   $5.49   \n",
       "45                                           Kufta      $8   \n",
       "46                              Debbie’s Egg Salad   $6.50   \n",
       "47                                      Beef Curry   $7.50   \n",
       "48                                   Le Végétarien   $8.75   \n",
       "49                                      The Gatsby   $6.85   \n",
       "\n",
       "                                  Address     Telephone  \\\n",
       "0                    2109 W. Chicago Ave.  773-772-0406   \n",
       "1                     800 W. Randolph St.  312-929-4580   \n",
       "2                        445 N. Clark St.  312-334-3688   \n",
       "3                914 Noyes St.,  Evanston  847-475-9400   \n",
       "4                      825 W. Fulton Mkt.  312-445-8977   \n",
       "5                       100 E. Walton St.  312-649-6717   \n",
       "6                     1639 S. Wabash Ave.  312-360-9500   \n",
       "7                      2211 W. North Ave.  773-276-2100   \n",
       "8                      3619 W. North Ave.  773-772-8435   \n",
       "9                     3267 S. Halsted St.  312-929-2486   \n",
       "10                   2537 N. Kedzie Blvd.  773-489-9554   \n",
       "11                                                        \n",
       "12                       3124 N. Broadway  773-661-9166   \n",
       "13                 3455 N. Southport Ave.  773-883-2525   \n",
       "14                    2657 N. Kedzie Ave.  773-276-7110   \n",
       "15                     1120 W. Grand Ave.  312-666-0730   \n",
       "16                  1141 S. Jefferson St.  312-939-2855   \n",
       "17                      333 E. Benton Pl.  773-234-3449   \n",
       "18                      1411 N. Wells St.  312-944-0459   \n",
       "19                     1747 N. Damen Ave.  773-489-1747   \n",
       "20                3209 W. Irving Park Rd.  773-539-8038   \n",
       "21                                                        \n",
       "22                      5347 N. Clark St.  773-275-5725   \n",
       "23                2954 W. Irving Park Rd.  773-539-5321   \n",
       "24                                                        \n",
       "25  191 Skokie Valley Rd.,  Highland Park  847-831-0600   \n",
       "26                                                        \n",
       "27                    1818 W. Wilson Ave.  773-293-2489   \n",
       "28                   2517 W. Division St.  773-862-8313   \n",
       "29                      218 W. Kinzie St.  312-624-8154   \n",
       "30                                                        \n",
       "31                      1547 N. Wells St.  312-624-9430   \n",
       "32                  415 N. Milwaukee Ave.  312-829-6300   \n",
       "33                     1840 N. Damen Ave.  773-681-9914   \n",
       "34                   1220 W. Webster Ave.  773-883-1313   \n",
       "35                   5357 N. Ashland Ave.  773-275-4297   \n",
       "36                  1834 W. Montrose Ave.  773-334-5664   \n",
       "37                       615 N. State St.  312-265-0434   \n",
       "38                                                        \n",
       "39             241 N. York Rd.,  Elmhurst  630-516-3354   \n",
       "40                       1323 E. 57th St.  773-538-7372   \n",
       "41          655 Forest Ave.,  Lake Forest  847-234-8800   \n",
       "42      Hotel Lincoln,  1816 N. Clark St.  312-254-4665   \n",
       "43           100 S. Marion St.,  Oak Park  708-725-7200   \n",
       "44                   26 E. Congress Pkwy.  312-922-2233   \n",
       "45                   2018 W. Chicago Ave.  773-384-9930   \n",
       "46                     25 E. Delaware Pl.  312-896-2600   \n",
       "47             416 N. York St.,  Elmhurst  630-359-5234   \n",
       "48                   65 E. Washington St.  312-726-2020   \n",
       "49                       3351 N. Broadway  773-868-4000   \n",
       "\n",
       "                                Home Page  \n",
       "0                        theoldoaktap.com  \n",
       "1                     aucheval.tumblr.com  \n",
       "2                         rickbayless.com  \n",
       "3                             alsdeli.net  \n",
       "4                publicanqualitymeats.com  \n",
       "5                                          \n",
       "6                       acadiachicago.com  \n",
       "7                    birchwoodkitchen.com  \n",
       "8                       cemitaspuebla.com  \n",
       "9                         nanaorganic.com  \n",
       "10                           lulacafe.com  \n",
       "11                     ricobenespizza.com  \n",
       "12                         frognsnail.com  \n",
       "13              crosbyskitchenchicago.com  \n",
       "14                    longmanandeagle.com  \n",
       "15                    bariitaliansubs.com  \n",
       "16                         mannysdeli.com  \n",
       "17                         eggysdiner.com  \n",
       "18                oldjerusalemchicago.com  \n",
       "19                hotchocolatechicago.com  \n",
       "20                                         \n",
       "21                      dawalikitchen.com  \n",
       "22                    bigjoneschicago.com  \n",
       "23                      lapanechicago.com  \n",
       "24                    pastoralartisan.com  \n",
       "25                          maxs-deli.com  \n",
       "26                      luckysandwich.com  \n",
       "27                     cityprovisions.com  \n",
       "28                  papascachesabroso.com  \n",
       "29                                         \n",
       "30                     hannahsbretzel.com  \n",
       "31                        lafournette.com  \n",
       "32                      paramountroom.com  \n",
       "33          meltsandwichshoppechicago.com  \n",
       "34                           floriole.com  \n",
       "35                         firstslice.org  \n",
       "36                     troquetchicago.com  \n",
       "37                         grahamwich.com  \n",
       "38                      saigonsisters.com  \n",
       "39                       rosaliasdeli.com  \n",
       "40                       zhmarketcafe.com  \n",
       "41                     themarkethouse.com  \n",
       "42   jdvhotels.com/hotels/chicago/lincoln  \n",
       "43           marionstreetcheesemarket.com  \n",
       "44                    cafecitochicago.com  \n",
       "45                    chickpeaonthego.com  \n",
       "46                   goddessandgrocer.com  \n",
       "47                       eatmyzenwich.com  \n",
       "48                     tonipatisserie.com  \n",
       "49                      phoebesbakery.com  "
      ],
      "text/html": "<div>\n<style scoped>\n    .dataframe tbody tr th:only-of-type {\n        vertical-align: middle;\n    }\n\n    .dataframe tbody tr th {\n        vertical-align: top;\n    }\n\n    .dataframe thead th {\n        text-align: right;\n    }\n</style>\n<table border=\"1\" class=\"dataframe\">\n  <thead>\n    <tr style=\"text-align: right;\">\n      <th></th>\n      <th>Rank</th>\n      <th>Cafe</th>\n      <th>Menu</th>\n      <th>Price</th>\n      <th>Address</th>\n      <th>Telephone</th>\n      <th>Home Page</th>\n    </tr>\n  </thead>\n  <tbody>\n    <tr>\n      <th>0</th>\n      <td>1</td>\n      <td>Old Oak Tap</td>\n      <td>BLT</td>\n      <td>$10</td>\n      <td>2109 W. Chicago Ave.</td>\n      <td>773-772-0406</td>\n      <td>theoldoaktap.com</td>\n    </tr>\n    <tr>\n      <th>1</th>\n      <td>2</td>\n      <td>Au Cheval</td>\n      <td>Fried Bologna</td>\n      <td>$9</td>\n      <td>800 W. Randolph St.</td>\n      <td>312-929-4580</td>\n      <td>aucheval.tumblr.com</td>\n    </tr>\n    <tr>\n      <th>2</th>\n      <td>3</td>\n      <td>Xoco</td>\n      <td>Woodland Mushroom</td>\n      <td>$9.50</td>\n      <td>445 N. Clark St.</td>\n      <td>312-334-3688</td>\n      <td>rickbayless.com</td>\n    </tr>\n    <tr>\n      <th>3</th>\n      <td>4</td>\n      <td>Al’s Deli</td>\n      <td>Roast Beef</td>\n      <td>$9.40</td>\n      <td>914 Noyes St.,  Evanston</td>\n      <td>847-475-9400</td>\n      <td>alsdeli.net</td>\n    </tr>\n    <tr>\n      <th>4</th>\n      <td>5</td>\n      <td>Publican Quality Meats</td>\n      <td>PB&amp;L</td>\n      <td>$10</td>\n      <td>825 W. Fulton Mkt.</td>\n      <td>312-445-8977</td>\n      <td>publicanqualitymeats.com</td>\n    </tr>\n    <tr>\n      <th>5</th>\n      <td>6</td>\n      <td>Hendrickx Belgian Bread Crafter</td>\n      <td>Belgian Chicken Curry Salad</td>\n      <td>$7.25</td>\n      <td>100 E. Walton St.</td>\n      <td>312-649-6717</td>\n      <td></td>\n    </tr>\n    <tr>\n      <th>6</th>\n      <td>7</td>\n      <td>Acadia</td>\n      <td>Lobster Roll</td>\n      <td>$16</td>\n      <td>1639 S. Wabash Ave.</td>\n      <td>312-360-9500</td>\n      <td>acadiachicago.com</td>\n    </tr>\n    <tr>\n      <th>7</th>\n      <td>8</td>\n      <td>Birchwood Kitchen</td>\n      <td>Smoked Salmon Salad</td>\n      <td>$10</td>\n      <td>2211 W. North Ave.</td>\n      <td>773-276-2100</td>\n      <td>birchwoodkitchen.com</td>\n    </tr>\n    <tr>\n      <th>8</th>\n      <td>9</td>\n      <td>Cemitas Puebla</td>\n      <td>Atomica Cemitas</td>\n      <td>$9</td>\n      <td>3619 W. North Ave.</td>\n      <td>773-772-8435</td>\n      <td>cemitaspuebla.com</td>\n    </tr>\n    <tr>\n      <th>9</th>\n      <td>10</td>\n      <td>Nana</td>\n      <td>Grilled Laughing Bird Shrimp and Fried Po’ Boy</td>\n      <td>$17</td>\n      <td>3267 S. Halsted St.</td>\n      <td>312-929-2486</td>\n      <td>nanaorganic.com</td>\n    </tr>\n    <tr>\n      <th>10</th>\n      <td>11</td>\n      <td>Lula Cafe</td>\n      <td>Ham and Raclette Panino</td>\n      <td>$11</td>\n      <td>2537 N. Kedzie Blvd.</td>\n      <td>773-489-9554</td>\n      <td>lulacafe.com</td>\n    </tr>\n    <tr>\n      <th>11</th>\n      <td>12</td>\n      <td>Ricobene’s</td>\n      <td>Breaded Steak</td>\n      <td>$5.49</td>\n      <td></td>\n      <td></td>\n      <td>ricobenespizza.com</td>\n    </tr>\n    <tr>\n      <th>12</th>\n      <td>13</td>\n      <td>Frog n Snail</td>\n      <td>The Hawkeye</td>\n      <td>$14</td>\n      <td>3124 N. Broadway</td>\n      <td>773-661-9166</td>\n      <td>frognsnail.com</td>\n    </tr>\n    <tr>\n      <th>13</th>\n      <td>14</td>\n      <td>Crosby’s Kitchen</td>\n      <td>Chicken Dip</td>\n      <td>$10</td>\n      <td>3455 N. Southport Ave.</td>\n      <td>773-883-2525</td>\n      <td>crosbyskitchenchicago.com</td>\n    </tr>\n    <tr>\n      <th>14</th>\n      <td>15</td>\n      <td>Longman &amp; Eagle</td>\n      <td>Wild Boar Sloppy Joe</td>\n      <td>$13</td>\n      <td>2657 N. Kedzie Ave.</td>\n      <td>773-276-7110</td>\n      <td>longmanandeagle.com</td>\n    </tr>\n    <tr>\n      <th>15</th>\n      <td>16</td>\n      <td>Bari</td>\n      <td>Meatball Sub</td>\n      <td>$4.50</td>\n      <td>1120 W. Grand Ave.</td>\n      <td>312-666-0730</td>\n      <td>bariitaliansubs.com</td>\n    </tr>\n    <tr>\n      <th>16</th>\n      <td>17</td>\n      <td>Manny’s</td>\n      <td>Corned Beef</td>\n      <td>$11.95</td>\n      <td>1141 S. Jefferson St.</td>\n      <td>312-939-2855</td>\n      <td>mannysdeli.com</td>\n    </tr>\n    <tr>\n      <th>17</th>\n      <td>18</td>\n      <td>Eggy’s</td>\n      <td>Turkey Club</td>\n      <td>$11.50</td>\n      <td>333 E. Benton Pl.</td>\n      <td>773-234-3449</td>\n      <td>eggysdiner.com</td>\n    </tr>\n    <tr>\n      <th>18</th>\n      <td>19</td>\n      <td>Old Jerusalem</td>\n      <td>Falafel</td>\n      <td>$6.25</td>\n      <td>1411 N. Wells St.</td>\n      <td>312-944-0459</td>\n      <td>oldjerusalemchicago.com</td>\n    </tr>\n    <tr>\n      <th>19</th>\n      <td>20</td>\n      <td>Mindy’s HotChocolate</td>\n      <td>Crab Cake</td>\n      <td>$15</td>\n      <td>1747 N. Damen Ave.</td>\n      <td>773-489-1747</td>\n      <td>hotchocolatechicago.com</td>\n    </tr>\n    <tr>\n      <th>20</th>\n      <td>21</td>\n      <td>Olga’s Delicatessen</td>\n      <td>Chicken Schnitzel</td>\n      <td>$5</td>\n      <td>3209 W. Irving Park Rd.</td>\n      <td>773-539-8038</td>\n      <td></td>\n    </tr>\n    <tr>\n      <th>21</th>\n      <td>22</td>\n      <td>Dawali Mediterranean Kitchen</td>\n      <td>Shawarma</td>\n      <td>$6</td>\n      <td></td>\n      <td></td>\n      <td>dawalikitchen.com</td>\n    </tr>\n    <tr>\n      <th>22</th>\n      <td>23</td>\n      <td>Big Jones</td>\n      <td>Toasted Pimiento Cheese</td>\n      <td>$8</td>\n      <td>5347 N. Clark St.</td>\n      <td>773-275-5725</td>\n      <td>bigjoneschicago.com</td>\n    </tr>\n    <tr>\n      <th>23</th>\n      <td>24</td>\n      <td>La Pane</td>\n      <td>Vegetarian Panino</td>\n      <td>$5.99</td>\n      <td>2954 W. Irving Park Rd.</td>\n      <td>773-539-5321</td>\n      <td>lapanechicago.com</td>\n    </tr>\n    <tr>\n      <th>24</th>\n      <td>25</td>\n      <td>Pastoral</td>\n      <td>Cali Chèvre</td>\n      <td>$7.52</td>\n      <td></td>\n      <td></td>\n      <td>pastoralartisan.com</td>\n    </tr>\n    <tr>\n      <th>25</th>\n      <td>26</td>\n      <td>Max’s Deli</td>\n      <td>Pastrami</td>\n      <td>$11.95</td>\n      <td>191 Skokie Valley Rd.,  Highland Park</td>\n      <td>847-831-0600</td>\n      <td>maxs-deli.com</td>\n    </tr>\n    <tr>\n      <th>26</th>\n      <td>27</td>\n      <td>Lucky’s Sandwich Co.</td>\n      <td>The Fredo</td>\n      <td>$7.50</td>\n      <td></td>\n      <td></td>\n      <td>luckysandwich.com</td>\n    </tr>\n    <tr>\n      <th>27</th>\n      <td>28</td>\n      <td>City Provisions</td>\n      <td>Smoked Ham</td>\n      <td>$12.95</td>\n      <td>1818 W. Wilson Ave.</td>\n      <td>773-293-2489</td>\n      <td>cityprovisions.com</td>\n    </tr>\n    <tr>\n      <th>28</th>\n      <td>29</td>\n      <td>Papa’s Cache Sabroso</td>\n      <td>Jibarito</td>\n      <td>$7</td>\n      <td>2517 W. Division St.</td>\n      <td>773-862-8313</td>\n      <td>papascachesabroso.com</td>\n    </tr>\n    <tr>\n      <th>29</th>\n      <td>30</td>\n      <td>Bavette’s Bar &amp; Boeuf</td>\n      <td>Shaved Prime Rib</td>\n      <td>$21</td>\n      <td>218 W. Kinzie St.</td>\n      <td>312-624-8154</td>\n      <td></td>\n    </tr>\n    <tr>\n      <th>30</th>\n      <td>31</td>\n      <td>Hannah’s Bretzel</td>\n      <td>Serrano Ham and Manchego Cheese</td>\n      <td>$9.79</td>\n      <td></td>\n      <td></td>\n      <td>hannahsbretzel.com</td>\n    </tr>\n    <tr>\n      <th>31</th>\n      <td>32</td>\n      <td>La Fournette</td>\n      <td>Tuna Salad</td>\n      <td>$9.75</td>\n      <td>1547 N. Wells St.</td>\n      <td>312-624-9430</td>\n      <td>lafournette.com</td>\n    </tr>\n    <tr>\n      <th>32</th>\n      <td>33</td>\n      <td>Paramount Room</td>\n      <td>Paramount Reuben</td>\n      <td>$13</td>\n      <td>415 N. Milwaukee Ave.</td>\n      <td>312-829-6300</td>\n      <td>paramountroom.com</td>\n    </tr>\n    <tr>\n      <th>33</th>\n      <td>34</td>\n      <td>Melt Sandwich Shoppe</td>\n      <td>The Istanbul</td>\n      <td>$7.95</td>\n      <td>1840 N. Damen Ave.</td>\n      <td>773-681-9914</td>\n      <td>meltsandwichshoppechicago.com</td>\n    </tr>\n    <tr>\n      <th>34</th>\n      <td>35</td>\n      <td>Floriole Cafe &amp; Bakery</td>\n      <td>B.A.D.</td>\n      <td>$9</td>\n      <td>1220 W. Webster Ave.</td>\n      <td>773-883-1313</td>\n      <td>floriole.com</td>\n    </tr>\n    <tr>\n      <th>35</th>\n      <td>36</td>\n      <td>First Slice Pie Café</td>\n      <td>Duck Confit and Mozzarella</td>\n      <td>$9</td>\n      <td>5357 N. Ashland Ave.</td>\n      <td>773-275-4297</td>\n      <td>firstslice.org</td>\n    </tr>\n    <tr>\n      <th>36</th>\n      <td>37</td>\n      <td>Troquet</td>\n      <td>Croque Monsieur</td>\n      <td>$8</td>\n      <td>1834 W. Montrose Ave.</td>\n      <td>773-334-5664</td>\n      <td>troquetchicago.com</td>\n    </tr>\n    <tr>\n      <th>37</th>\n      <td>38</td>\n      <td>Grahamwich</td>\n      <td>Green Garbanzo</td>\n      <td>$8</td>\n      <td>615 N. State St.</td>\n      <td>312-265-0434</td>\n      <td>grahamwich.com</td>\n    </tr>\n    <tr>\n      <th>38</th>\n      <td>39</td>\n      <td>Saigon Sisters</td>\n      <td>The Hen House</td>\n      <td>$7</td>\n      <td></td>\n      <td></td>\n      <td>saigonsisters.com</td>\n    </tr>\n    <tr>\n      <th>39</th>\n      <td>40</td>\n      <td>Rosalia’s Deli</td>\n      <td>Tuscan Chicken</td>\n      <td>$6</td>\n      <td>241 N. York Rd.,  Elmhurst</td>\n      <td>630-516-3354</td>\n      <td>rosaliasdeli.com</td>\n    </tr>\n    <tr>\n      <th>40</th>\n      <td>41</td>\n      <td>Z&amp;H MarketCafe</td>\n      <td>The Marty</td>\n      <td>$7.25</td>\n      <td>1323 E. 57th St.</td>\n      <td>773-538-7372</td>\n      <td>zhmarketcafe.com</td>\n    </tr>\n    <tr>\n      <th>41</th>\n      <td>42</td>\n      <td>Market House on the Square</td>\n      <td>Whitefish</td>\n      <td>$11</td>\n      <td>655 Forest Ave.,  Lake Forest</td>\n      <td>847-234-8800</td>\n      <td>themarkethouse.com</td>\n    </tr>\n    <tr>\n      <th>42</th>\n      <td>43</td>\n      <td>Elaine’s Coffee Call</td>\n      <td>Oat Bread, Pecan Butter, and Fruit Jam</td>\n      <td>$6</td>\n      <td>Hotel Lincoln,  1816 N. Clark St.</td>\n      <td>312-254-4665</td>\n      <td>jdvhotels.com/hotels/chicago/lincoln</td>\n    </tr>\n    <tr>\n      <th>43</th>\n      <td>44</td>\n      <td>Marion Street Cheese Market</td>\n      <td>Cauliflower Melt</td>\n      <td>$9</td>\n      <td>100 S. Marion St.,  Oak Park</td>\n      <td>708-725-7200</td>\n      <td>marionstreetcheesemarket.com</td>\n    </tr>\n    <tr>\n      <th>44</th>\n      <td>45</td>\n      <td>Cafecito</td>\n      <td>Cubana</td>\n      <td>$5.49</td>\n      <td>26 E. Congress Pkwy.</td>\n      <td>312-922-2233</td>\n      <td>cafecitochicago.com</td>\n    </tr>\n    <tr>\n      <th>45</th>\n      <td>46</td>\n      <td>Chickpea</td>\n      <td>Kufta</td>\n      <td>$8</td>\n      <td>2018 W. Chicago Ave.</td>\n      <td>773-384-9930</td>\n      <td>chickpeaonthego.com</td>\n    </tr>\n    <tr>\n      <th>46</th>\n      <td>47</td>\n      <td>The Goddess and Grocer</td>\n      <td>Debbie’s Egg Salad</td>\n      <td>$6.50</td>\n      <td>25 E. Delaware Pl.</td>\n      <td>312-896-2600</td>\n      <td>goddessandgrocer.com</td>\n    </tr>\n    <tr>\n      <th>47</th>\n      <td>48</td>\n      <td>Zenwich</td>\n      <td>Beef Curry</td>\n      <td>$7.50</td>\n      <td>416 N. York St.,  Elmhurst</td>\n      <td>630-359-5234</td>\n      <td>eatmyzenwich.com</td>\n    </tr>\n    <tr>\n      <th>48</th>\n      <td>49</td>\n      <td>Toni Patisserie</td>\n      <td>Le Végétarien</td>\n      <td>$8.75</td>\n      <td>65 E. Washington St.</td>\n      <td>312-726-2020</td>\n      <td>tonipatisserie.com</td>\n    </tr>\n    <tr>\n      <th>49</th>\n      <td>50</td>\n      <td>Phoebe’s Bakery</td>\n      <td>The Gatsby</td>\n      <td>$6.85</td>\n      <td>3351 N. Broadway</td>\n      <td>773-868-4000</td>\n      <td>phoebesbakery.com</td>\n    </tr>\n  </tbody>\n</table>\n</div>"
     },
     "metadata": {},
     "execution_count": 18
    }
   ],
   "source": [
    "df2 = pd.DataFrame({\n",
    "    'Rank': rank_list,\n",
    "    'Cafe': cafe_list,\n",
    "    'Menu': menu_list,\n",
    "    'Price': price_list,\n",
    "    'Address': addr_list,\n",
    "    'Telephone': tel_list,\n",
    "    'Home Page': hp_list\n",
    "})\n",
    "df2"
   ]
  },
  {
   "cell_type": "code",
   "execution_count": 19,
   "metadata": {},
   "outputs": [],
   "source": [
    "df2.to_csv('df2.csv')"
   ]
  },
  {
   "source": [
    "### 맛집 위치를 지도에 표기하기"
   ],
   "cell_type": "markdown",
   "metadata": {}
  },
  {
   "cell_type": "code",
   "execution_count": 20,
   "metadata": {},
   "outputs": [],
   "source": [
    "import numpy as np\n",
    "import folium\n",
    "import googlemaps"
   ]
  },
  {
   "cell_type": "code",
   "execution_count": 21,
   "metadata": {},
   "outputs": [],
   "source": [
    "key_fd = open('googlemapskey.txt', mode='r')\n",
    "gmaps_key = key_fd.read(100)\n",
    "key_fd.close()"
   ]
  },
  {
   "cell_type": "code",
   "execution_count": 22,
   "metadata": {},
   "outputs": [],
   "source": [
    "gmaps = googlemaps.Client(key=gmaps_key)"
   ]
  },
  {
   "cell_type": "code",
   "execution_count": 23,
   "metadata": {},
   "outputs": [
    {
     "output_type": "display_data",
     "data": {
      "text/plain": "HBox(children=(FloatProgress(value=0.0, max=50.0), HTML(value='')))",
      "application/vnd.jupyter.widget-view+json": {
       "version_major": 2,
       "version_minor": 0,
       "model_id": "d56cd620c55845cb8544f7072b56bdac"
      }
     },
     "metadata": {}
    },
    {
     "output_type": "stream",
     "name": "stdout",
     "text": [
      "\n"
     ]
    }
   ],
   "source": [
    "lat = []\n",
    "lng = []\n",
    "\n",
    "for n in tqdm_notebook(df2.index):\n",
    "    if df2['Address'][n].find(' ') != 0:\n",
    "        target_name = df2['Address'][n]+', '+'Chicago'\n",
    "        gmaps_output = gmaps.geocode(target_name)\n",
    "        location_output = gmaps_output[0].get('geometry')\n",
    "        lat.append(location_output['location']['lat'])\n",
    "        lng.append(location_output['location']['lng'])\n",
    "\n",
    "    else:\n",
    "        lat.append(np.nan)\n",
    "        lng.append(np.nan)"
   ]
  },
  {
   "cell_type": "code",
   "execution_count": 24,
   "metadata": {},
   "outputs": [
    {
     "output_type": "stream",
     "name": "stdout",
     "text": [
      "[41.8956049, 41.8846582, 41.8905226, 42.0583217, 41.8866036, 41.9002501, 41.8590541, 41.9102031, 41.9097558, 41.8345302, 41.9276207, nan, 41.9384419, 41.9451044, 41.930109, 41.89129000000001, 41.8678529, 41.8852691, 41.9080539, 41.91369539999999, 41.9537106, nan, 41.9794496, 41.9541563, nan, 42.156691, nan, 41.9652987, 41.90272179999999, 41.8893683, nan, 41.9105258, 41.8896188, 41.91504990000001, 41.9218521, 41.9797099, 41.9617122, 41.89296119999999, nan, 41.9047551, 41.7913185, 42.2518352, 41.9152875, 41.8863622, 41.8758102, 41.8960738, 41.89897850000001, 41.9105832, 41.8831061, 41.9431632]\n"
     ]
    }
   ],
   "source": [
    "print(lat)"
   ]
  },
  {
   "cell_type": "code",
   "execution_count": 25,
   "metadata": {},
   "outputs": [],
   "source": [
    "df2['lat'] = lat\n",
    "df2['lng'] = lng"
   ]
  },
  {
   "cell_type": "code",
   "execution_count": 26,
   "metadata": {},
   "outputs": [
    {
     "output_type": "execute_result",
     "data": {
      "text/plain": [
       "<folium.folium.Map at 0x1d4c2654c40>"
      ],
      "text/html": "<div style=\"width:100%;\"><div style=\"position:relative;width:100%;height:0;padding-bottom:60%;\"><span style=\"color:#565656\">Make this Notebook Trusted to load map: File -> Trust Notebook</span><iframe src=\"about:blank\" style=\"position:absolute;width:100%;height:100%;left:0;top:0;border:none !important;\" data-html=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 onload=\"this.contentDocument.open();this.contentDocument.write(atob(this.getAttribute('data-html')));this.contentDocument.close();\" allowfullscreen webkitallowfullscreen mozallowfullscreen></iframe></div></div>"
     },
     "metadata": {},
     "execution_count": 26
    }
   ],
   "source": [
    "mapping = folium.Map(location=[df2['lat'].mean(), df2['lng'].mean()], zoom_start=11)\n",
    "folium.Marker([df2['lat'].mean(), df2['lng'].mean()], popup='center').add_to(mapping)\n",
    "mapping"
   ]
  },
  {
   "cell_type": "code",
   "execution_count": 27,
   "metadata": {},
   "outputs": [
    {
     "output_type": "execute_result",
     "data": {
      "text/plain": [
       "<folium.folium.Map at 0x1d4c20343d0>"
      ],
      "text/html": "<div style=\"width:100%;\"><div style=\"position:relative;width:100%;height:0;padding-bottom:60%;\"><span style=\"color:#565656\">Make this Notebook Trusted to load map: File -> Trust Notebook</span><iframe src=\"about:blank\" style=\"position:absolute;width:100%;height:100%;left:0;top:0;border:none !important;\" data-html=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 onload=\"this.contentDocument.open();this.contentDocument.write(atob(this.getAttribute('data-html')));this.contentDocument.close();\" allowfullscreen webkitallowfullscreen mozallowfullscreen></iframe></div></div>"
     },
     "metadata": {},
     "execution_count": 27
    }
   ],
   "source": [
    "mapping = folium.Map(location=[df2['lat'].mean(), df2['lng'].mean()], zoom_start=11)\n",
    "\n",
    "for n in df2.index:\n",
    "    if df2['Address'][n].find(' ') != 0:\n",
    "        folium.Marker([df2['lat'][n], df2['lng'][n]], popup=df2['Cafe'][n]).add_to(mapping)\n",
    "mapping"
   ]
  },
  {
   "cell_type": "code",
   "execution_count": null,
   "metadata": {},
   "outputs": [],
   "source": []
  }
 ]
}