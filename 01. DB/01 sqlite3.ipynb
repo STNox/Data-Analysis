{
 "metadata": {
  "language_info": {
   "codemirror_mode": {
    "name": "ipython",
    "version": 3
   },
   "file_extension": ".py",
   "mimetype": "text/x-python",
   "name": "python",
   "nbconvert_exporter": "python",
   "pygments_lexer": "ipython3",
   "version": "3.9.0-final"
  },
  "orig_nbformat": 2,
  "kernelspec": {
   "name": "Python 3.9.0 64-bit",
   "display_name": "Python 3.9.0 64-bit",
   "metadata": {
    "interpreter": {
     "hash": "26d0ce0d52ddbb3017b78203e42eefb4e1688f5f0d6a5f64887c8393e46c147d"
    }
   }
  }
 },
 "nbformat": 4,
 "nbformat_minor": 2,
 "cells": [
  {
   "source": [
    "# SQLite3 활용"
   ],
   "cell_type": "markdown",
   "metadata": {}
  },
  {
   "source": [
    "### 접속"
   ],
   "cell_type": "markdown",
   "metadata": {}
  },
  {
   "cell_type": "code",
   "execution_count": 3,
   "metadata": {},
   "outputs": [
    {
     "output_type": "stream",
     "name": "stdout",
     "text": [
      "(1, '홍길동')\n(2, '대조영')\n"
     ]
    }
   ],
   "source": [
    "import sqlite3\n",
    "conn = sqlite3.connect('./test.db')\n",
    "cur = conn.cursor()\n",
    "cur.execute('select * from test;')\n",
    "rows = cur.fetchall()\n",
    "for row in rows:\n",
    "    print(row)\n",
    "conn.close()"
   ]
  },
  {
   "cell_type": "code",
   "execution_count": 4,
   "metadata": {},
   "outputs": [
    {
     "output_type": "stream",
     "name": "stdout",
     "text": [
      "(1, '홍길동')\n(2, '대조영')\n"
     ]
    }
   ],
   "source": [
    "conn = sqlite3.connect('./test.db')\n",
    "with conn:\n",
    "    cur = conn.cursor()\n",
    "    cur.execute('select * from test;')\n",
    "    rows = cur.fetchall()\n",
    "    for row in rows:\n",
    "        print(row)"
   ]
  },
  {
   "cell_type": "code",
   "execution_count": 5,
   "metadata": {},
   "outputs": [],
   "source": [
    "conn = sqlite3.connect('./test.db')\n",
    "cur = conn.cursor()"
   ]
  },
  {
   "cell_type": "code",
   "execution_count": 7,
   "metadata": {},
   "outputs": [
    {
     "output_type": "error",
     "ename": "OperationalError",
     "evalue": "duplicate column name: age",
     "traceback": [
      "\u001b[1;31m---------------------------------------------------------------------------\u001b[0m",
      "\u001b[1;31mOperationalError\u001b[0m                          Traceback (most recent call last)",
      "\u001b[1;32m<ipython-input-7-e3b80a72ecdf>\u001b[0m in \u001b[0;36m<module>\u001b[1;34m\u001b[0m\n\u001b[0;32m      1\u001b[0m \u001b[1;31m# 테이블 구조 변경\u001b[0m\u001b[1;33m\u001b[0m\u001b[1;33m\u001b[0m\u001b[1;33m\u001b[0m\u001b[0m\n\u001b[0;32m      2\u001b[0m \u001b[0msql\u001b[0m \u001b[1;33m=\u001b[0m \u001b[1;34m'alter table test add column age integer;'\u001b[0m\u001b[1;33m\u001b[0m\u001b[1;33m\u001b[0m\u001b[0m\n\u001b[1;32m----> 3\u001b[1;33m \u001b[0mcur\u001b[0m\u001b[1;33m.\u001b[0m\u001b[0mexecute\u001b[0m\u001b[1;33m(\u001b[0m\u001b[0msql\u001b[0m\u001b[1;33m)\u001b[0m\u001b[1;33m\u001b[0m\u001b[1;33m\u001b[0m\u001b[0m\n\u001b[0m\u001b[0;32m      4\u001b[0m \u001b[0mconn\u001b[0m\u001b[1;33m.\u001b[0m\u001b[0mcommit\u001b[0m\u001b[1;33m(\u001b[0m\u001b[1;33m)\u001b[0m\u001b[1;33m\u001b[0m\u001b[1;33m\u001b[0m\u001b[0m\n",
      "\u001b[1;31mOperationalError\u001b[0m: duplicate column name: age"
     ]
    }
   ],
   "source": [
    "# 테이블 구조 변경\n",
    "sql = 'alter table test add column age integer;'\n",
    "cur.execute(sql)\n",
    "# 변경사항 저장\n",
    "conn.commit()"
   ]
  },
  {
   "source": [
    "### 데이터 추가"
   ],
   "cell_type": "markdown",
   "metadata": {}
  },
  {
   "cell_type": "code",
   "execution_count": 8,
   "metadata": {},
   "outputs": [],
   "source": [
    "cur = conn.cursor()\n",
    "sql = \"insert into test(name, age) values ('장보고', 1000);\"\n",
    "cur.execute(sql)\n",
    "conn.commit()"
   ]
  },
  {
   "cell_type": "code",
   "execution_count": 9,
   "metadata": {},
   "outputs": [],
   "source": [
    "writers = [('이우정', 40), ('김은숙', 45)]\n",
    "sql = \"insert into test(name, age) values(?,?);\"\n",
    "for writer in writers:\n",
    "    cur.execute(sql, writer) #  파라미터는 튜플로 전달\n",
    "conn.commit()"
   ]
  },
  {
   "cell_type": "code",
   "execution_count": 10,
   "metadata": {},
   "outputs": [],
   "source": [
    "cur.execute(sql, ('김수현', 60))\n",
    "conn.commit()"
   ]
  },
  {
   "cell_type": "code",
   "execution_count": 11,
   "metadata": {},
   "outputs": [],
   "source": [
    "writers = [('노희경', 30), ('송지나', 35), ('임성한', 40)]\n",
    "cur.executemany(sql, writers)\n",
    "conn.commit()"
   ]
  },
  {
   "source": [
    "### 데이터 조회"
   ],
   "cell_type": "markdown",
   "metadata": {}
  },
  {
   "cell_type": "code",
   "execution_count": 15,
   "metadata": {},
   "outputs": [
    {
     "output_type": "stream",
     "name": "stdout",
     "text": [
      "(1, '홍길동', 300)\n"
     ]
    }
   ],
   "source": [
    "# 단건 조회\n",
    "cur = conn.cursor()\n",
    "select_sql = 'select * from test;'\n",
    "cur.execute(select_sql)\n",
    "row = cur.fetchone()\n",
    "print(row)"
   ]
  },
  {
   "cell_type": "code",
   "execution_count": 16,
   "metadata": {},
   "outputs": [
    {
     "output_type": "stream",
     "name": "stdout",
     "text": [
      "(2, '대조영', 300)\n(3, '장보고', 1000)\n(4, '이우정', 40)\n"
     ]
    }
   ],
   "source": [
    "# 다건 조회\n",
    "rows = cur.fetchmany(3)\n",
    "for row in rows:\n",
    "    print(row)"
   ]
  },
  {
   "cell_type": "code",
   "execution_count": 17,
   "metadata": {},
   "outputs": [
    {
     "output_type": "stream",
     "name": "stdout",
     "text": [
      "(5, '김은숙', 45)\n(6, '김수현', 60)\n"
     ]
    }
   ],
   "source": [
    "rows = cur.fetchmany(2)\n",
    "for row in rows:\n",
    "    print(row)"
   ]
  },
  {
   "cell_type": "code",
   "execution_count": 18,
   "metadata": {},
   "outputs": [
    {
     "output_type": "stream",
     "name": "stdout",
     "text": [
      "(7, '노희경', 30)\n(8, '송지나', 35)\n(9, '임성한', 40)\n"
     ]
    }
   ],
   "source": [
    "rows = cur.fetchall()\n",
    "for row in rows:\n",
    "    print(row)"
   ]
  },
  {
   "cell_type": "code",
   "execution_count": 19,
   "metadata": {},
   "outputs": [
    {
     "output_type": "stream",
     "name": "stdout",
     "text": [
      "(1, '홍길동', 300)\n(2, '대조영', 300)\n(3, '장보고', 1000)\n(4, '이우정', 40)\n(5, '김은숙', 45)\n(6, '김수현', 60)\n(7, '노희경', 30)\n(8, '송지나', 35)\n(9, '임성한', 40)\n"
     ]
    }
   ],
   "source": [
    "cur = conn.cursor()\n",
    "cur.execute(select_sql)\n",
    "rows = cur.fetchall()\n",
    "for row in rows:\n",
    "    print(row)"
   ]
  },
  {
   "cell_type": "code",
   "execution_count": 20,
   "metadata": {},
   "outputs": [
    {
     "output_type": "stream",
     "name": "stdout",
     "text": [
      "(1, '홍길동', 300)\n(2, '대조영', 300)\n(3, '장보고', 1000)\n(4, '이우정', 40)\n(5, '김은숙', 45)\n(6, '김수현', 60)\n(7, '노희경', 30)\n(8, '송지나', 35)\n(9, '임성한', 40)\n"
     ]
    }
   ],
   "source": [
    "# 순회 조회\n",
    "cur = conn.cursor()\n",
    "cur.execute(select_sql)\n",
    "for row in cur:\n",
    "    print(row)"
   ]
  },
  {
   "cell_type": "code",
   "execution_count": 21,
   "metadata": {},
   "outputs": [
    {
     "output_type": "stream",
     "name": "stdout",
     "text": [
      "('김수현', 60)\n('김은숙', 45)\n('노희경', 30)\n('대조영', 300)\n('송지나', 35)\n('이우정', 40)\n('임성한', 40)\n('장보고', 1000)\n('홍길동', 300)\n"
     ]
    }
   ],
   "source": [
    "# 필요한 컬럼만 조회\n",
    "cur = conn.cursor()\n",
    "cur.execute(\"select name, age from test order by name;\")\n",
    "rows = cur.fetchall()\n",
    "for row in rows:\n",
    "    print(row)"
   ]
  },
  {
   "cell_type": "code",
   "execution_count": 23,
   "metadata": {},
   "outputs": [
    {
     "output_type": "stream",
     "name": "stdout",
     "text": [
      "(3, '장보고', 1000)\n(2, '대조영', 300)\n(1, '홍길동', 300)\n"
     ]
    }
   ],
   "source": [
    "# 원하는 순서 및 개수\n",
    "cur = conn.cursor()\n",
    "cur.execute(\"select * from test order by age desc, name limit 3;\")\n",
    "rows = cur.fetchall()\n",
    "for row in rows:\n",
    "    print(row)"
   ]
  },
  {
   "cell_type": "code",
   "execution_count": 24,
   "metadata": {},
   "outputs": [
    {
     "output_type": "stream",
     "name": "stdout",
     "text": [
      "(9,) 9\n"
     ]
    }
   ],
   "source": [
    "# 함수\n",
    "cur.execute('select count(*) from test;')\n",
    "count = cur.fetchone()\n",
    "print(count, count[0])"
   ]
  },
  {
   "cell_type": "code",
   "execution_count": 25,
   "metadata": {},
   "outputs": [
    {
     "output_type": "stream",
     "name": "stdout",
     "text": [
      "(1000, 30, 1850, 205.55555555555554)\n"
     ]
    }
   ],
   "source": [
    "cur.execute('select max(age), min(age), sum(age), avg(age) from test;')\n",
    "row = cur.fetchone()\n",
    "print(row)"
   ]
  },
  {
   "cell_type": "code",
   "execution_count": 26,
   "metadata": {},
   "outputs": [
    {
     "output_type": "stream",
     "name": "stdout",
     "text": [
      "1000 30 1850 205.55555555555554\n"
     ]
    }
   ],
   "source": [
    "cur.execute('select max(age), min(age), sum(age), avg(age) from test;')\n",
    "max_age, min_age, sum_age, avg_age = cur.fetchone()\n",
    "print(max_age, min_age, sum_age, avg_age)"
   ]
  },
  {
   "source": [
    "### 검색"
   ],
   "cell_type": "markdown",
   "metadata": {}
  },
  {
   "cell_type": "code",
   "execution_count": 27,
   "metadata": {},
   "outputs": [
    {
     "output_type": "stream",
     "name": "stdout",
     "text": [
      "(4, '이우정', 40)\n(5, '김은숙', 45)\n(7, '노희경', 30)\n(8, '송지나', 35)\n(9, '임성한', 40)\n"
     ]
    }
   ],
   "source": [
    "cur = conn.cursor()\n",
    "cur.execute('select * from test where age < ?;', (50,))\n",
    "rows = cur.fetchall()\n",
    "for row in rows:\n",
    "    print(row)"
   ]
  },
  {
   "source": [
    "### 데이터 변경"
   ],
   "cell_type": "markdown",
   "metadata": {}
  },
  {
   "cell_type": "code",
   "execution_count": 28,
   "metadata": {},
   "outputs": [],
   "source": [
    "cur.execute('update test set age=1300 where id=2;')\n",
    "conn.commit()"
   ]
  },
  {
   "source": [
    "### 데이터 삭제"
   ],
   "cell_type": "markdown",
   "metadata": {}
  },
  {
   "cell_type": "code",
   "execution_count": 29,
   "metadata": {},
   "outputs": [],
   "source": [
    "cur.execute('delete from test where id=6;')\n",
    "conn.commit()"
   ]
  },
  {
   "cell_type": "code",
   "execution_count": null,
   "metadata": {},
   "outputs": [],
   "source": []
  }
 ]
}