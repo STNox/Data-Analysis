{
 "metadata": {
  "language_info": {
   "codemirror_mode": {
    "name": "ipython",
    "version": 3
   },
   "file_extension": ".py",
   "mimetype": "text/x-python",
   "name": "python",
   "nbconvert_exporter": "python",
   "pygments_lexer": "ipython3",
   "version": "3.9.0-final"
  },
  "orig_nbformat": 2,
  "kernelspec": {
   "name": "Python 3.9.0 64-bit",
   "display_name": "Python 3.9.0 64-bit",
   "metadata": {
    "interpreter": {
     "hash": "26d0ce0d52ddbb3017b78203e42eefb4e1688f5f0d6a5f64887c8393e46c147d"
    }
   }
  }
 },
 "nbformat": 4,
 "nbformat_minor": 2,
 "cells": [
  {
   "source": [
    "### 연습문제 1"
   ],
   "cell_type": "markdown",
   "metadata": {}
  },
  {
   "cell_type": "code",
   "execution_count": 2,
   "metadata": {},
   "outputs": [],
   "source": [
    "import sqlite3\n",
    "conn = sqlite3.connect('./Kiwoom.db')"
   ]
  },
  {
   "cell_type": "code",
   "execution_count": 5,
   "metadata": {},
   "outputs": [
    {
     "output_type": "error",
     "ename": "IntegrityError",
     "evalue": "UNIQUE constraint failed: Heroes.back_no",
     "traceback": [
      "\u001b[1;31m---------------------------------------------------------------------------\u001b[0m",
      "\u001b[1;31mIntegrityError\u001b[0m                            Traceback (most recent call last)",
      "\u001b[1;32m<ipython-input-5-009b10d2a17f>\u001b[0m in \u001b[0;36m<module>\u001b[1;34m\u001b[0m\n\u001b[0;32m      1\u001b[0m \u001b[0mplayers\u001b[0m \u001b[1;33m=\u001b[0m \u001b[1;33m(\u001b[0m\u001b[1;33m(\u001b[0m\u001b[1;36m1\u001b[0m\u001b[1;33m,\u001b[0m \u001b[1;34m'한현희'\u001b[0m\u001b[1;33m,\u001b[0m \u001b[1;34m'투수'\u001b[0m\u001b[1;33m,\u001b[0m \u001b[1;36m27\u001b[0m\u001b[1;33m)\u001b[0m\u001b[1;33m,\u001b[0m \u001b[1;33m(\u001b[0m\u001b[1;36m8\u001b[0m\u001b[1;33m,\u001b[0m \u001b[1;34m'브리검'\u001b[0m\u001b[1;33m,\u001b[0m \u001b[1;34m'투수'\u001b[0m\u001b[1;33m,\u001b[0m \u001b[1;36m32\u001b[0m\u001b[1;33m)\u001b[0m\u001b[1;33m,\u001b[0m \u001b[1;33m(\u001b[0m\u001b[1;36m11\u001b[0m\u001b[1;33m,\u001b[0m \u001b[1;34m'조상우'\u001b[0m\u001b[1;33m,\u001b[0m \u001b[1;34m'투수'\u001b[0m\u001b[1;33m,\u001b[0m \u001b[1;36m26\u001b[0m\u001b[1;33m)\u001b[0m\u001b[1;33m,\u001b[0m \u001b[1;33m(\u001b[0m\u001b[1;36m43\u001b[0m\u001b[1;33m,\u001b[0m \u001b[1;34m'요키시'\u001b[0m\u001b[1;33m,\u001b[0m \u001b[1;34m'투수'\u001b[0m\u001b[1;33m,\u001b[0m \u001b[1;36m31\u001b[0m\u001b[1;33m)\u001b[0m\u001b[1;33m,\u001b[0m \u001b[1;33m(\u001b[0m\u001b[1;36m19\u001b[0m\u001b[1;33m,\u001b[0m \u001b[1;34m'문성현'\u001b[0m\u001b[1;33m,\u001b[0m \u001b[1;34m'투수'\u001b[0m\u001b[1;33m,\u001b[0m \u001b[1;36m28\u001b[0m\u001b[1;33m)\u001b[0m\u001b[1;33m,\u001b[0m \u001b[1;33m(\u001b[0m\u001b[1;36m56\u001b[0m\u001b[1;33m,\u001b[0m \u001b[1;34m'이지영'\u001b[0m\u001b[1;33m,\u001b[0m \u001b[1;34m'포수'\u001b[0m\u001b[1;33m,\u001b[0m \u001b[1;36m34\u001b[0m\u001b[1;33m)\u001b[0m\u001b[1;33m,\u001b[0m \u001b[1;33m(\u001b[0m\u001b[1;36m7\u001b[0m\u001b[1;33m,\u001b[0m \u001b[1;34m'김하성'\u001b[0m\u001b[1;33m,\u001b[0m \u001b[1;34m'유격수'\u001b[0m\u001b[1;33m,\u001b[0m \u001b[1;36m25\u001b[0m\u001b[1;33m)\u001b[0m\u001b[1;33m,\u001b[0m \u001b[1;33m(\u001b[0m\u001b[1;36m14\u001b[0m\u001b[1;33m,\u001b[0m \u001b[1;34m'서건창'\u001b[0m\u001b[1;33m,\u001b[0m \u001b[1;34m'2루수'\u001b[0m\u001b[1;33m,\u001b[0m \u001b[1;36m31\u001b[0m\u001b[1;33m)\u001b[0m\u001b[1;33m,\u001b[0m \u001b[1;33m(\u001b[0m\u001b[1;36m52\u001b[0m\u001b[1;33m,\u001b[0m \u001b[1;34m'박병호'\u001b[0m\u001b[1;33m,\u001b[0m \u001b[1;34m'1루수'\u001b[0m\u001b[1;33m,\u001b[0m \u001b[1;36m34\u001b[0m\u001b[1;33m)\u001b[0m\u001b[1;33m,\u001b[0m \u001b[1;33m(\u001b[0m\u001b[1;36m51\u001b[0m\u001b[1;33m,\u001b[0m \u001b[1;34m'이정후'\u001b[0m\u001b[1;33m,\u001b[0m \u001b[1;34m'외야수'\u001b[0m\u001b[1;33m,\u001b[0m \u001b[1;36m22\u001b[0m\u001b[1;33m)\u001b[0m\u001b[1;33m)\u001b[0m\u001b[1;33m\u001b[0m\u001b[1;33m\u001b[0m\u001b[0m\n\u001b[0;32m      2\u001b[0m \u001b[0mcur\u001b[0m \u001b[1;33m=\u001b[0m \u001b[0mconn\u001b[0m\u001b[1;33m.\u001b[0m\u001b[0mcursor\u001b[0m\u001b[1;33m(\u001b[0m\u001b[1;33m)\u001b[0m\u001b[1;33m\u001b[0m\u001b[1;33m\u001b[0m\u001b[0m\n\u001b[1;32m----> 3\u001b[1;33m \u001b[0mcur\u001b[0m\u001b[1;33m.\u001b[0m\u001b[0mexecutemany\u001b[0m\u001b[1;33m(\u001b[0m\u001b[1;34m'insert into Heroes values(?, ?, ?, ?);'\u001b[0m\u001b[1;33m,\u001b[0m \u001b[0mplayers\u001b[0m\u001b[1;33m)\u001b[0m\u001b[1;33m\u001b[0m\u001b[1;33m\u001b[0m\u001b[0m\n\u001b[0m\u001b[0;32m      4\u001b[0m \u001b[0mconn\u001b[0m\u001b[1;33m.\u001b[0m\u001b[0mcommit\u001b[0m\u001b[1;33m(\u001b[0m\u001b[1;33m)\u001b[0m\u001b[1;33m\u001b[0m\u001b[1;33m\u001b[0m\u001b[0m\n",
      "\u001b[1;31mIntegrityError\u001b[0m: UNIQUE constraint failed: Heroes.back_no"
     ]
    }
   ],
   "source": [
    "players = ((1, '한현희', '투수', 27), (8, '브리검', '투수', 32), (11, '조상우', '투수', 26), (43, '요키시', '투수', 31), (19, '문성현', '투수', 28), (56, '이지영', '포수', 34), (7, '김하성', '유격수', 25), (14, '서건창', '2루수', 31), (52, '박병호', '1루수', 34), (51, '이정후', '외야수', 22))\n",
    "cur = conn.cursor()\n",
    "cur.executemany('insert into Heroes values(?, ?, ?, ?);', players)"
   ]
  },
  {
   "cell_type": "code",
   "execution_count": 6,
   "metadata": {},
   "outputs": [],
   "source": [
    "conn.commit()"
   ]
  },
  {
   "cell_type": "code",
   "execution_count": 14,
   "metadata": {},
   "outputs": [],
   "source": [
    "cur = conn.cursor()\n",
    "cur.execute('create table Pitchers_stats \\\n",
    "    (ERA real not null, \\\n",
    "     IP real not null, \\\n",
    "     SO int not null, \\\n",
    "     pid integer not null primary key autoincrement, \\\n",
    "     back_no int not null, \\\n",
    "     foreign key(back_no) references Heroes(back_no));')\n",
    "conn.commit()"
   ]
  },
  {
   "cell_type": "code",
   "execution_count": 17,
   "metadata": {},
   "outputs": [],
   "source": [
    "pitcher_stats = ((4.98, 135.2, 109, 1, 1), (3.62, 107, 105, 2, 8), (2.15, 54.1, 64, 3, 11), (5.40, 18.1, 13, 4, 15), (4.73, 51.1, 48, 5, 24), (4.20, 15, 13, 6, 19), (2.14, 159.2, 115, 7, 43))\n",
    "cur = conn.cursor()\n",
    "cur.executemany('insert into Pitchers_stats values(?, ?, ?, ?, ?);', pitcher_stats)\n",
    "conn.commit()"
   ]
  },
  {
   "cell_type": "code",
   "execution_count": 5,
   "metadata": {},
   "outputs": [
    {
     "output_type": "stream",
     "name": "stdout",
     "text": [
      "등번호: 1, 이름: 한현희, 포지션: 투수, IP: 135.2, ERA: 4.98, SO: 109\n등번호: 8, 이름: 브리검, 포지션: 투수, IP: 107.0, ERA: 3.62, SO: 105\n등번호: 11, 이름: 조상우, 포지션: 투수, IP: 54.1, ERA: 2.15, SO: 64\n등번호: 19, 이름: 문성현, 포지션: 투수, IP: 15.0, ERA: 4.2, SO: 13\n등번호: 43, 이름: 요키시, 포지션: 투수, IP: 159.2, ERA: 2.14, SO: 115\n"
     ]
    }
   ],
   "source": [
    "import sqlite3\n",
    "conn = sqlite3.connect('./Kiwoom.db')\n",
    "cur = conn.cursor()\n",
    "cur.execute('select h.back_no, h.name, h.position, p.IP, p.ERA, p.SO from Heroes as h \\\n",
    "            join Pitchers_stats as p \\\n",
    "            on h.back_no=p.back_no')\n",
    "rows = cur.fetchall()\n",
    "for row in rows:\n",
    "    print(f'등번호: {row[0]}, 이름: {row[1]}, 포지션: {row[2]}, IP: {row[3]}, ERA: {row[4]}, SO: {row[5]}')"
   ]
  },
  {
   "source": [
    "### 연습문제 2.1"
   ],
   "cell_type": "markdown",
   "metadata": {}
  },
  {
   "cell_type": "code",
   "execution_count": 7,
   "metadata": {},
   "outputs": [],
   "source": [
    "import sqlite3\n",
    "conn = sqlite3.connect('./Groups.db')\n",
    "cur = conn.cursor()\n",
    "cur.execute('create table idol \\\n",
    "            (id integer not null primary key autoincrement, \\\n",
    "            group_name text not null, \\\n",
    "            member int not null, \\\n",
    "            debut text not null, \\\n",
    "            company text not null);')\n",
    "conn.commit()\n"
   ]
  },
  {
   "cell_type": "code",
   "execution_count": 10,
   "metadata": {},
   "outputs": [],
   "source": [
    "idols = ((1, '블랙핑크', 4, '2016-08-08', 'YG Entertainment'), (2, '트와이스', 9, '2015-10-20', 'JYP Entertainment'), (3, '방탄소년단', 7, '2013-06-13', 'Big Hit Entertainment'), (4, 'WINNER', 4, '2014-08-17', 'YG Entertainment'), (5, '오마이걸', 7, '2015-04-21', 'WM Entertainment'))\n",
    "cur = conn.cursor()\n",
    "cur.executemany('insert into idol values(?, ?, ?, ?, ?);', idols)\n",
    "conn.commit()"
   ]
  },
  {
   "source": [
    "### 연습문제 2.2"
   ],
   "cell_type": "markdown",
   "metadata": {}
  },
  {
   "cell_type": "code",
   "execution_count": 11,
   "metadata": {},
   "outputs": [],
   "source": [
    "cur = conn.cursor()\n",
    "cur.execute('create table songs \\\n",
    "            (song_id integer not null primary key autoincrement, \\\n",
    "            song_name text not null, \\\n",
    "            group_id int not null, \\\n",
    "            release_date text not null, \\\n",
    "            composer text not null, \\\n",
    "            lyrics text not null, \\\n",
    "            foreign key(group_id) references idol(id));')\n",
    "conn.commit()"
   ]
  },
  {
   "cell_type": "code",
   "execution_count": 12,
   "metadata": {},
   "outputs": [],
   "source": [
    "songs = ((1, 'Dolphin', 5, '2020-04-27', 'Ryan S. Jhun 외', 'oh my god 타이밍이 참 얄미워 오늘 같은 날 마주쳐 이게 뭐야'), (2, 'Dynamite', 3, '2020-08-21', 'David Stewart 외', 'Cos ah ah I’m in the stars tonight'), (3, 'MORE & MORE', 2, '2020-06-01', 'Uzoechi Emenike 외', 'I know I want it 입에 바른 소린 이제 그만할게'), (4, 'How You Like That', 1, '2020-10-02', 'TEDDY 외', '보란 듯이 무너졌어 바닥을 뚫고 저 지하까지'), (5, 'MILLIONS', 4, '2018-12-19', '강승윤 외', 'I like you babe 어디가 그렇게 좋으냐고 묻네'), (6, '스물다섯, 스물하나', 6, '2013-10-14', '김윤아', '바람에 날려 꽃이 지는 계절엔 아직도 너의 손을 잡은 듯 그런 듯해'), (7, 'Viva la Vida', 7, '2008-06-12', 'Cold Play', 'I used to rule the world'), (8, 'Ice Cream (with Selena Gomez)', 1, '2020-08-28', 'Tommy Brown 외', 'Come a little closer cause you looking thirsty'), (9, '작은 것들을 위한 시(Boy With Luv)', 3, '2019-04-12', 'RM 외', '모든 게 궁금해 How’s your day Oh tell me 뭐가 널 행복하게 하는지 Oh text me'), (10, '러시안 룰렛(Russian Roulette)', 8, '2016-09-07', 'Belle Humble 외', '날카로운 Secret 둘러싼 얘긴 베일 속에 점점 더 깊은 H H Hush 맘을 겨눠 이제'))\n",
    "cur = conn.cursor()\n",
    "cur.executemany('insert into songs values(?, ?, ?, ?, ?, ?);', songs)\n",
    "conn.commit()"
   ]
  },
  {
   "source": [
    "### 연습문제 2.3"
   ],
   "cell_type": "markdown",
   "metadata": {}
  },
  {
   "cell_type": "code",
   "execution_count": 13,
   "metadata": {},
   "outputs": [
    {
     "output_type": "stream",
     "name": "stdout",
     "text": [
      "그룹 이름: 오마이걸, 구성원 수: 7, 데뷔 일자: 2015-04-21, 노래 이름: Dolphin, 발표 연도: 2020-04-27\n그룹 이름: 방탄소년단, 구성원 수: 7, 데뷔 일자: 2013-06-13, 노래 이름: Dynamite, 발표 연도: 2020-08-21\n그룹 이름: 트와이스, 구성원 수: 9, 데뷔 일자: 2015-10-20, 노래 이름: MORE & MORE, 발표 연도: 2020-06-01\n그룹 이름: 블랙핑크, 구성원 수: 4, 데뷔 일자: 2016-08-08, 노래 이름: How You Like That, 발표 연도: 2020-10-02\n그룹 이름: WINNER, 구성원 수: 4, 데뷔 일자: 2014-08-17, 노래 이름: MILLIONS, 발표 연도: 2018-12-19\n그룹 이름: 블랙핑크, 구성원 수: 4, 데뷔 일자: 2016-08-08, 노래 이름: Ice Cream (with Selena Gomez), 발표 연도: 2020-08-28\n그룹 이름: 방탄소년단, 구성원 수: 7, 데뷔 일자: 2013-06-13, 노래 이름: 작은 것들을 위한 시(Boy With Luv), 발표 연도: 2019-04-12\n"
     ]
    }
   ],
   "source": [
    "cur = conn.cursor()\n",
    "cur.execute('select i.group_name, i.member, i.debut, s.song_name, s.release_date from idol as i \\\n",
    "            join songs as s \\\n",
    "            on i.id=s.group_id;')\n",
    "rows = cur.fetchall()\n",
    "for row in rows:\n",
    "    print(f'그룹 이름: {row[0]}, 구성원 수: {row[1]}, 데뷔 일자: {row[2]}, 노래 이름: {row[3]}, 발표 연도: {row[4]}')"
   ]
  },
  {
   "source": [
    "### 연습문제 3"
   ],
   "cell_type": "markdown",
   "metadata": {}
  },
  {
   "cell_type": "code",
   "execution_count": 14,
   "metadata": {},
   "outputs": [],
   "source": [
    "import sqlite3\n",
    "conn = sqlite3.connect('./test.db')\n",
    "cur = conn.cursor()\n",
    "cur.execute('create table Users \\\n",
    "            (uid text not null, \\\n",
    "            pwd text not null);')\n",
    "conn.commit()"
   ]
  },
  {
   "cell_type": "code",
   "execution_count": 15,
   "metadata": {},
   "outputs": [],
   "source": [
    "user_info = (('user1', 'user1'), ('user2', 'user2'))\n",
    "cur = conn.cursor()\n",
    "cur.executemany('insert into Users values (?, ?);', user_info)\n",
    "conn.commit()"
   ]
  },
  {
   "cell_type": "code",
   "execution_count": 47,
   "metadata": {},
   "outputs": [
    {
     "output_type": "stream",
     "name": "stdout",
     "text": [
      "실패\n"
     ]
    }
   ],
   "source": [
    "user_id, user_pwd = input('아이디와 패스워드를 입력하십시오(아이디 패스워드)').split()\n",
    "cur.execute('select * from Users;')\n",
    "rows = cur.fetchall()\n",
    "s_or_f = ''\n",
    "for i in range(len(rows)):\n",
    "    if user_id in rows[i][0]:\n",
    "        if user_pwd == rows[i][1]:\n",
    "            s_or_f += 's'\n",
    "            break\n",
    "        else:\n",
    "            s_or_f += 'f'\n",
    "            break\n",
    "    else:\n",
    "        s_or_f += 'f'\n",
    "if s_or_f[-1] == 's':\n",
    "    print('성공')\n",
    "else:\n",
    "    print('실패')\n"
   ]
  },
  {
   "cell_type": "code",
   "execution_count": null,
   "metadata": {},
   "outputs": [],
   "source": []
  }
 ]
}