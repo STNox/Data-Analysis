{
 "metadata": {
  "language_info": {
   "codemirror_mode": {
    "name": "ipython",
    "version": 3
   },
   "file_extension": ".py",
   "mimetype": "text/x-python",
   "name": "python",
   "nbconvert_exporter": "python",
   "pygments_lexer": "ipython3",
   "version": "3.8.3-final"
  },
  "orig_nbformat": 2,
  "kernelspec": {
   "name": "python3",
   "display_name": "Python 3"
  }
 },
 "nbformat": 4,
 "nbformat_minor": 2,
 "cells": [
  {
   "cell_type": "code",
   "execution_count": 1,
   "metadata": {},
   "outputs": [],
   "source": [
    "import numpy as np\n",
    "import pandas as pd\n",
    "import seaborn as sns"
   ]
  },
  {
   "cell_type": "code",
   "execution_count": 2,
   "metadata": {},
   "outputs": [],
   "source": [
    "iris = sns.load_dataset('iris')"
   ]
  },
  {
   "cell_type": "code",
   "execution_count": 3,
   "metadata": {},
   "outputs": [],
   "source": [
    "def abn(x):\n",
    "    q1, q3 = np.percentile(x, [25, 75])\n",
    "    iqr = q3 - q1\n",
    "    low_bound = q1 - iqr * 1.5\n",
    "    high_bound = q3 + iqr * 1.5\n",
    "    x[(x > high_bound) | (x < low_bound)] = np.NaN\n",
    "    return x"
   ]
  },
  {
   "cell_type": "code",
   "execution_count": 4,
   "metadata": {},
   "outputs": [],
   "source": [
    "old_set_stats = pd.DataFrame({\n",
    "    'species': ['setosa'] * 4,\n",
    "    'old_mean': iris[iris.species == 'setosa'].mean(),\n",
    "    'old_std': iris[iris.species == 'setosa'].std()\n",
    "})\n",
    "old_ver_stats = pd.DataFrame({\n",
    "    'species': ['versicolor'] * 4,\n",
    "    'old_mean': iris[iris.species == 'versicolor'].mean(),\n",
    "    'old_std': iris[iris.species == 'versicolor'].std()\n",
    "})\n",
    "old_vir_stats = pd.DataFrame({\n",
    "    'species': ['virginica'] * 4,\n",
    "    'old_mean': iris[iris.species == 'virginica'].mean(),\n",
    "    'old_std': iris[iris.species == 'virginica'].std()\n",
    "})"
   ]
  },
  {
   "cell_type": "code",
   "execution_count": 5,
   "metadata": {},
   "outputs": [],
   "source": [
    "old_set_stats.reset_index()\n",
    "old_ver_stats.reset_index()\n",
    "old_vir_stats.reset_index()\n",
    "tmp_old = old_set_stats.append(old_ver_stats)\n",
    "old_stats = tmp_old.append(old_vir_stats)\n",
    "old_stats = old_stats.reset_index()\n",
    "old_stats.columns = ['leaf', 'species', 'old_mean', 'old_std']"
   ]
  },
  {
   "cell_type": "code",
   "execution_count": 6,
   "metadata": {},
   "outputs": [],
   "source": [
    "new_setosa = pd.DataFrame({\n",
    "    'sepal_length': abn(iris[iris.species == 'setosa'].sepal_length),\n",
    "    'sepal_width': abn(iris[iris.species == 'setosa'].sepal_width),\n",
    "    'petal_length': abn(iris[iris.species == 'setosa'].petal_length),\n",
    "    'petal_width': abn(iris[iris.species == 'setosa'].petal_width),\n",
    "    'species': ['setosa'] * 50})"
   ]
  },
  {
   "cell_type": "code",
   "execution_count": 7,
   "metadata": {},
   "outputs": [],
   "source": [
    "new_versicolor = pd.DataFrame({\n",
    "    'sepal_length': abn(iris[iris.species == 'versicolor'].sepal_length),\n",
    "    'sepal_width': abn(iris[iris.species == 'versicolor'].sepal_width),\n",
    "    'petal_length': abn(iris[iris.species == 'versicolor'].petal_length),\n",
    "    'petal_width': abn(iris[iris.species == 'versicolor'].petal_width),\n",
    "    'species': ['versicolor'] * 50})"
   ]
  },
  {
   "cell_type": "code",
   "execution_count": 8,
   "metadata": {},
   "outputs": [],
   "source": [
    "new_virginica = pd.DataFrame({\n",
    "    'sepal_length': abn(iris[iris.species == 'virginica'].sepal_length),\n",
    "    'sepal_width': abn(iris[iris.species == 'virginica'].sepal_width),\n",
    "    'petal_length': abn(iris[iris.species == 'virginica'].petal_length),\n",
    "    'petal_width': abn(iris[iris.species == 'virginica'].petal_width),\n",
    "    'species': ['virginica'] * 50})"
   ]
  },
  {
   "cell_type": "code",
   "execution_count": 9,
   "metadata": {},
   "outputs": [],
   "source": [
    "tmp = new_setosa.append(new_versicolor)\n",
    "new_iris = tmp.append(new_virginica)"
   ]
  },
  {
   "cell_type": "code",
   "execution_count": 10,
   "metadata": {},
   "outputs": [],
   "source": [
    "set_stats = pd.DataFrame({\n",
    "    'species': ['setosa'] * 4,\n",
    "    'mean': new_iris[new_iris.species == 'setosa'].mean(),\n",
    "    'std': new_iris[new_iris.species == 'setosa'].std()\n",
    "})\n",
    "ver_stats = pd.DataFrame({\n",
    "    'species': ['versicolor'] * 4,\n",
    "    'mean': new_iris[new_iris.species == 'versicolor'].mean(),\n",
    "    'std': new_iris[new_iris.species == 'versicolor'].std()\n",
    "})\n",
    "vir_stats = pd.DataFrame({\n",
    "    'species': ['virginica'] * 4,\n",
    "    'mean': new_iris[new_iris.species == 'virginica'].mean(),\n",
    "    'std': new_iris[new_iris.species == 'virginica'].std()\n",
    "})"
   ]
  },
  {
   "cell_type": "code",
   "execution_count": 11,
   "metadata": {},
   "outputs": [],
   "source": [
    "set_stats.reset_index()\n",
    "ver_stats.reset_index()\n",
    "vir_stats.reset_index()\n",
    "tmp_new = set_stats.append(ver_stats)\n",
    "stats = tmp_new.append(vir_stats)\n",
    "stats = stats.reset_index()\n",
    "stats.columns = ['leaf', 'species', 'mean', 'std']"
   ]
  },
  {
   "cell_type": "code",
   "execution_count": 16,
   "metadata": {},
   "outputs": [
    {
     "output_type": "execute_result",
     "data": {
      "text/plain": [
       "                             mean  old_mean   old_std       std\n",
       "species    leaf                                                \n",
       "setosa     petal_length  1.460870     1.462  0.173664  0.129062\n",
       "           petal_width   0.233333     0.246  0.105386  0.085883\n",
       "           sepal_length  5.006000     5.006  0.352490  0.352490\n",
       "           sepal_width   3.431250     3.428  0.379064  0.320343\n",
       "versicolor petal_length  4.285714     4.260  0.469911  0.437798\n",
       "           petal_width   1.326000     1.326  0.197753  0.197753\n",
       "           sepal_length  5.936000     5.936  0.516171  0.516171\n",
       "           sepal_width   2.770000     2.770  0.313798  0.313798\n",
       "virginica  petal_length  5.552000     5.552  0.551895  0.551895\n",
       "           petal_width   2.026000     2.026  0.274650  0.274650\n",
       "           sepal_length  6.622449     6.588  0.635880  0.593459\n",
       "           sepal_width   2.955319     2.974  0.322497  0.260275"
      ],
      "text/html": "<div>\n<style scoped>\n    .dataframe tbody tr th:only-of-type {\n        vertical-align: middle;\n    }\n\n    .dataframe tbody tr th {\n        vertical-align: top;\n    }\n\n    .dataframe thead th {\n        text-align: right;\n    }\n</style>\n<table border=\"1\" class=\"dataframe\">\n  <thead>\n    <tr style=\"text-align: right;\">\n      <th></th>\n      <th></th>\n      <th>mean</th>\n      <th>old_mean</th>\n      <th>old_std</th>\n      <th>std</th>\n    </tr>\n    <tr>\n      <th>species</th>\n      <th>leaf</th>\n      <th></th>\n      <th></th>\n      <th></th>\n      <th></th>\n    </tr>\n  </thead>\n  <tbody>\n    <tr>\n      <th rowspan=\"4\" valign=\"top\">setosa</th>\n      <th>petal_length</th>\n      <td>1.460870</td>\n      <td>1.462</td>\n      <td>0.173664</td>\n      <td>0.129062</td>\n    </tr>\n    <tr>\n      <th>petal_width</th>\n      <td>0.233333</td>\n      <td>0.246</td>\n      <td>0.105386</td>\n      <td>0.085883</td>\n    </tr>\n    <tr>\n      <th>sepal_length</th>\n      <td>5.006000</td>\n      <td>5.006</td>\n      <td>0.352490</td>\n      <td>0.352490</td>\n    </tr>\n    <tr>\n      <th>sepal_width</th>\n      <td>3.431250</td>\n      <td>3.428</td>\n      <td>0.379064</td>\n      <td>0.320343</td>\n    </tr>\n    <tr>\n      <th rowspan=\"4\" valign=\"top\">versicolor</th>\n      <th>petal_length</th>\n      <td>4.285714</td>\n      <td>4.260</td>\n      <td>0.469911</td>\n      <td>0.437798</td>\n    </tr>\n    <tr>\n      <th>petal_width</th>\n      <td>1.326000</td>\n      <td>1.326</td>\n      <td>0.197753</td>\n      <td>0.197753</td>\n    </tr>\n    <tr>\n      <th>sepal_length</th>\n      <td>5.936000</td>\n      <td>5.936</td>\n      <td>0.516171</td>\n      <td>0.516171</td>\n    </tr>\n    <tr>\n      <th>sepal_width</th>\n      <td>2.770000</td>\n      <td>2.770</td>\n      <td>0.313798</td>\n      <td>0.313798</td>\n    </tr>\n    <tr>\n      <th rowspan=\"4\" valign=\"top\">virginica</th>\n      <th>petal_length</th>\n      <td>5.552000</td>\n      <td>5.552</td>\n      <td>0.551895</td>\n      <td>0.551895</td>\n    </tr>\n    <tr>\n      <th>petal_width</th>\n      <td>2.026000</td>\n      <td>2.026</td>\n      <td>0.274650</td>\n      <td>0.274650</td>\n    </tr>\n    <tr>\n      <th>sepal_length</th>\n      <td>6.622449</td>\n      <td>6.588</td>\n      <td>0.635880</td>\n      <td>0.593459</td>\n    </tr>\n    <tr>\n      <th>sepal_width</th>\n      <td>2.955319</td>\n      <td>2.974</td>\n      <td>0.322497</td>\n      <td>0.260275</td>\n    </tr>\n  </tbody>\n</table>\n</div>"
     },
     "metadata": {},
     "execution_count": 16
    }
   ],
   "source": [
    "iris_stats = old_stats\n",
    "iris_stats['mean'] = stats['mean']\n",
    "iris_stats['std'] = stats['std']\n",
    "iris_stats.pivot_table(['old_mean', 'old_std', 'mean', 'std'], ['species', 'leaf'])"
   ]
  },
  {
   "cell_type": "code",
   "execution_count": null,
   "metadata": {},
   "outputs": [],
   "source": []
  }
 ]
}